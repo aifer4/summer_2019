{
 "cells": [
  {
   "cell_type": "code",
   "execution_count": 57,
   "metadata": {},
   "outputs": [],
   "source": [
    "import params as par\n",
    "from scipy import integrate\n",
    "from scipy.interpolate import interp1d\n",
    "from scipy.special import spherical_jn\n",
    "import numpy as np\n",
    "import matplotlib.pyplot as plt\n",
    "import copy\n",
    "import pickle\n",
    "import matplotlib as mpl\n",
    "import numba"
   ]
  },
  {
   "cell_type": "code",
   "execution_count": 106,
   "metadata": {},
   "outputs": [],
   "source": [
    "\"\"\"Settings and Parameters\"\"\"\n",
    "\n",
    "# Plot Settings\n",
    "plt.rcParams.update(par.plot_params)\n",
    "\n",
    "\n",
    "# Parameters\n",
    "H0 = 67.\n",
    "Ωb0 = 0.04968\n",
    "Ωc0 = 0.26754\n",
    "Ωɣ0 = 5.50234e-5\n",
    "Ων0 = 3.74248e-5\n",
    "\n",
    "Ωr0 = Ωɣ0 + Ων0\n",
    "Ωm0 = Ωb0 + Ωc0\n",
    "ΩΛ  = 1-(Ωb0 + Ωc0 + Ωɣ0)\n",
    "\n",
    "\n",
    "z_rec = 1090\n",
    "a_rec = 1/(1+z_rec)\n",
    "a_eq  = Ωr0/Ωm0\n",
    "\n",
    "# Numerical Settings\n",
    "τ0 = .001 / (H0 * 1000)\n",
    "\n",
    "k_low =  par.k_low\n",
    "k_high= par.k_high\n",
    "\n",
    "N = 100\n",
    "K = 100\n",
    "K_int = 10000"
   ]
  },
  {
   "cell_type": "code",
   "execution_count": 107,
   "metadata": {},
   "outputs": [
    {
     "name": "stdout",
     "output_type": "stream",
     "text": [
      "2.0862059032780998e-05\n"
     ]
    }
   ],
   "source": [
    "\"\"\"Background Cosmology\"\"\"\n",
    "\n",
    "def tau_itgd(a):\n",
    "    \"\"\"conformal time integrand\"\"\"\n",
    "    return  1/(a**2* H0 * np.sqrt(Ωm0*a**-3 + Ωr0*a**-4 + ΩΛ))\n",
    "\n",
    "(τ_rec,_) = integrate.quad(tau_itgd,0,a_rec)\n",
    "(τ_eq,_) = integrate.quad(tau_itgd,0,a_eq)\n",
    "(τ_now,_) = integrate.quad(tau_itgd,0,1)\n",
    "τr = 1/(np.sqrt(Ωm0/a_rec)*H0/2)\n",
    "τs = 0.6*Ωm0**(.25) * Ωb0**(-.5)*a_rec**(.75)*(H0/100)**(-.5)*τr\n",
    "\n",
    "\n",
    "α = np.sqrt(a_rec/a_eq)\n",
    "a = lambda τ: a_eq*((α*τ/τr)**2 + 2*α*τ/τr)\n",
    "y = lambda τ: a(τ)/a_eq\n",
    "ℋ = lambda τ: 2*α*(α*τ/τr + 1)/(α**2 * (τ**2/τr) + 2*α*τ)\n",
    "yb = lambda τ: 1.68*y(τ)*Ωb0/Ωm0\n",
    "\n",
    "Ωb = lambda τ: Ωb0 * a(τ)**-3.\n",
    "Ωc = lambda τ: Ωc0 * a(τ)**-3.\n",
    "Ωɣ = lambda τ: Ωɣ0 * a(τ)**-4.\n",
    "Ων = lambda τ: Ων0 * a(τ)**-4.\n",
    "Ωm = lambda τ: Ωm0 * a(τ)**-3.\n",
    "Ωr = lambda τ: Ωr0 * a(τ)**-4.\n",
    "ΩT = lambda τ: Ωm(τ) + Ωr(τ)\n",
    "Ωd = lambda τ: Ωc(τ) + Ων(τ)\n",
    "\n",
    "print(τs)"
   ]
  },
  {
   "cell_type": "code",
   "execution_count": 108,
   "metadata": {},
   "outputs": [],
   "source": [
    "# Load data from 3-fluid.\n",
    "τ = pickle.load(open( \"data/tau_solve.p\", \"rb\" ) )\n",
    "τRK45 = pickle.load(open( \"data/tau_solve.p\", \"rb\" ) )\n",
    "τ_list = τ\n",
    "stepsizes = np.diff(τRK45)\n",
    "k_list = pickle.load(open( \"data/k_vals.p\", \"rb\" ) )\n",
    "\n",
    "k_list = np.linspace(par.k_low, par.k_high, par.K_SOLVE)\n",
    "\n",
    "\n",
    "# Load gdm functions\n",
    "wd_F = pickle.load(open( \"data/w_d.p\", \"rb\" ) )\n",
    "Dwd_F = pickle.load(open( \"data/Dw_d.p\", \"rb\" ) )\n",
    "cs2d_F = pickle.load(open( \"data/cs2_d.p\", \"rb\" ) )\n",
    "\n",
    "\n",
    "δd0 = pickle.load(open( \"data/delta_d_init.p\", \"rb\" ) )\n",
    "vd0 = pickle.load(open( \"data/v_d_init.p\", \"rb\" ) )\n",
    "δɣ0 = pickle.load(open( \"data/delta_g_init.p\", \"rb\" ) )\n",
    "vɣ0 = pickle.load(open( \"data/v_g_init.p\", \"rb\" ) )\n",
    "Φ0 = pickle.load(open( \"data/phi_init.p\", \"rb\" ) )"
   ]
  },
  {
   "cell_type": "code",
   "execution_count": 109,
   "metadata": {},
   "outputs": [],
   "source": [
    "\"\"\"Precompute Bessel Functions\"\"\"\n",
    "\n",
    "l_low = 2\n",
    "l_high = 1200\n",
    "\n",
    "l_list = np.array([i for i in range(2,50,1)]+[i for i in range(50,200,5)] + \n",
    "     [i for i in range(200, 1200, 20)])\n",
    "\n",
    "L = len(l_list)\n",
    "Cl = np.zeros(len(l_list))\n",
    "\n",
    "\n",
    "k_list2  = np.linspace(k_low,k_high,K_int)\n",
    "\n",
    "JLK = np.array([\n",
    "    spherical_jn(l, k_list2*(τ_now-τ_rec))\n",
    "                for l in l_list])\n",
    "DJLK = np.array([\n",
    "    spherical_jn(l, k_list2*(τ_now-τ_rec), derivative=True) \n",
    "    for l in l_list])\n"
   ]
  },
  {
   "cell_type": "code",
   "execution_count": 110,
   "metadata": {},
   "outputs": [],
   "source": [
    "wd = wd_F\n",
    "Dwd = Dwd_F\n",
    "cs2d = cs2d_F\n",
    "Y0 = np.zeros((5,K))\n",
    "@numba.jit(nopython=True)\n",
    "def DY(τ, Y):\n",
    "        Φ = Y[0,:]\n",
    "        δɣ = Y[1,:]\n",
    "        vɣ = Y[2,:]\n",
    "        δd = Y[3,:]\n",
    "        vd = Y[4,:]\n",
    "        #compute background quantities\n",
    "        ℋ = 2*α*(α*τ/τr + 1)/(α**2 * (τ**2/τr) + 2*α*τ)\n",
    "        a =  a_eq*((α*τ/τr)**2 + 2*α*τ/τr)\n",
    "        yb = 1.68*a*Ωb0/Ωr0\n",
    "\n",
    "        Ωb = Ωb0 * a**-3.\n",
    "        Ωɣ = Ωɣ0 * a**-4.\n",
    "        Ωd = Ωc0 * a**-3. + Ων0 * a**-4.\n",
    "\n",
    "        wd_j = np.interp(τ, τ_list, wd)\n",
    "        Dwd_j = np.interp(τ, τ_list, Dwd)\n",
    "        \n",
    "        #interpolate cs2\n",
    "        idx = np.searchsorted(τ_list, τ) - 1\n",
    "        d = (τ - τ_list[idx]) / (τ_list[idx + 1] - τ_list[idx])\n",
    "        cs2d_j = (1 - d) * cs2d[:,idx] + cs2d[:,idx + 1] * d\n",
    "\n",
    "        f = vd*Ωd*(1+wd_j) + 4./3.*Ωɣ*vɣ +  Ωb*vɣ\n",
    "\n",
    "        DΦ  = -ℋ*Φ + (3/2.*H0**2.*a**2/k_list)*f\n",
    "\n",
    "        Dδɣ = -4./3.*k_list*vɣ + 4*DΦ\n",
    "        Dvɣ = (-ℋ*yb*vɣ + k_list*δɣ/3)/(\n",
    "            4./3. + yb) + k_list*Φ\n",
    "\n",
    "        Dδd = -(1+wd_j)*(k_list*vd-3*DΦ) - 3*ℋ*(cs2d_j-wd_j)*δd\n",
    "        Dvd = -ℋ*(1-3*wd_j)*vd - vd*Dwd_j/(1+wd_j) + k_list*δd*cs2d_j/(1+wd_j) + k_list*Φ\n",
    "        dY = np.zeros((5,K))\n",
    "        dY[0,:] = DΦ\n",
    "        dY[1,:] = Dδɣ\n",
    "        dY[2,:] = Dvɣ\n",
    "        dY[3,:] = Dδd\n",
    "        dY[4,:] = Dvd\n",
    "\n",
    "        #return np.array([DΦ, Dδɣ, Dvɣ, Dδd, Dvd])\n",
    "        return dY\n",
    "\n",
    "Y0 = np.array([Φ0, δɣ0, vɣ0, δd0, vd0])"
   ]
  },
  {
   "cell_type": "code",
   "execution_count": 111,
   "metadata": {},
   "outputs": [],
   "source": [
    "@numba.jit(nopython=True)\n",
    "def solve(): \n",
    "    Y = np.zeros((len(τRK45), 5, K))\n",
    "    Y[0,:,:] = Y0\n",
    "    for i, τi in enumerate(τRK45[:-1]):\n",
    "        #implement rK4:\n",
    "        ss = stepsizes[i]\n",
    "        k1 = ss*DY(τi,Y[i,:,:])\n",
    "        k2 = ss*DY(τi+ss/2,Y[i,:,:]+k1/2)\n",
    "        k3 = ss*DY(τi+ss/2,Y[i,:,:]+k2/2)\n",
    "        k4 = ss*DY(τi+ss,Y[i,:,:]+k3)\n",
    "        \n",
    "        Y[i+1,:,:] = Y[i,:,:] + k1/6 + k2/3 + k3/3 + k4/6\n",
    "    return Y[-1,:,:]"
   ]
  },
  {
   "cell_type": "code",
   "execution_count": 112,
   "metadata": {},
   "outputs": [],
   "source": [
    "k_grid = np.broadcast_to(k_list2,(L,K_int))\n",
    "@numba.jit(nopython=True)\n",
    "def get_Cl():\n",
    "    # first compute mode evolution:\n",
    "    Yf = solve()\n",
    "    SW = Yf[0,:] + Yf[1,:]/4\n",
    "    DOP = Yf[2,:]\n",
    "    SWsd = SW*np.exp(-(k_list*τs)**2)\n",
    "    DOPsd = DOP*np.exp(-(k_list*τs)**2)\n",
    "    \n",
    "    # get the power spectrum\n",
    "    SWfill = np.interp(k_list2, k_list, SW)\n",
    "    DOPfill = np.interp(k_list2, k_list, DOP)\n",
    "    Dl = SWfill*JLK + DOPfill*(DJLK-JLK/(2*k_list2*(τ_now-τ_rec)))\n",
    "\n",
    "    T = np.exp(-2*(k_list2*τs)**2 - (.03*k_list2*τ_rec)**2)\n",
    "    Cl_itgd = Dl**2 *T /k_list2\n",
    "    Cl = integrate.trapz(k_grid, Cl_itgd)\n",
    "    Cl_out = l_list*(l_list + 1)*Cl\n",
    "    return -Cl_out"
   ]
  },
  {
   "cell_type": "code",
   "execution_count": 113,
   "metadata": {},
   "outputs": [
    {
     "data": {
      "text/plain": [
       "[<matplotlib.lines.Line2D at 0x2290254c080>]"
      ]
     },
     "execution_count": 113,
     "metadata": {},
     "output_type": "execute_result"
    },
    {
     "data": {
      "image/png": "[encoded data removed]",
      "text/plain": [
       "<Figure size 936x504 with 1 Axes>"
      ]
     },
     "metadata": {
      "needs_background": "light"
     },
     "output_type": "display_data"
    }
   ],
   "source": [
    "Cl = get_Cl()\n",
    "plt.plot(l_list,Cl)"
   ]
  },
  {
   "cell_type": "code",
   "execution_count": null,
   "metadata": {},
   "outputs": [],
   "source": [
    "# set the w basis\n",
    "B = np.eye(N)\n",
    "for n in range(N//2):\n",
    "    s_n = np.sin((n+1)*np.pi*τ/τ[-1])\n",
    "    c_n = np.cos(n*np.pi*τ/τ[-1])\n",
    "    B[:,2*n] = s_n\n",
    "    B[:,2*n+1] = c_n\n",
    "#plt.imshow(B)"
   ]
  },
  {
   "cell_type": "code",
   "execution_count": null,
   "metadata": {},
   "outputs": [],
   "source": [
    "\n",
    "# get fiducial power spectrum\n",
    "wd = copy.deepcopy(wd_F)\n",
    "cs2d = copy.deepcopy(cs2d_F)\n",
    "\n",
    "Dwd = np.gradient(wd,τ)\n",
    "wd_ = interp1d(τ,wd, fill_value=\"extrapolate\")\n",
    "Dwd_ = interp1d(τ,Dwd, fill_value=\"extrapolate\")\n",
    "cs2d_ = interp1d(τ,cs2d, fill_value=\"extrapolate\")\n",
    "\n",
    "Cl_F = get_Cl()\n",
    "\n",
    "#perturb GDM functions\n",
    "Θw = np.zeros(N)\n",
    "Θcs2 = np.zeros((N,K))\n",
    "\n",
    "Θw[3]=.0001\n",
    "Θw[1]=.0001\n",
    "wd = wd_F + B@Θw\n",
    "cs2d = cs2d_F + Θcs2\n",
    "\n",
    "Dwd = np.gradient(wd,τ)\n",
    "wd_ = interp1d(τ,wd, fill_value=\"extrapolate\")\n",
    "Dwd_ = interp1d(τ,Dwd, fill_value=\"extrapolate\")\n",
    "cs2d_ = interp1d(τ,cs2d, fill_value=\"extrapolate\")\n",
    "\n",
    "Cl_per = get_Cl()"
   ]
  },
  {
   "cell_type": "code",
   "execution_count": null,
   "metadata": {
    "scrolled": false
   },
   "outputs": [],
   "source": [
    "plt.plot(τ, wd_F)\n",
    "plt.plot(τ, wd, linestyle=':', linewidth=3)\n",
    "plt.legend(['fiducial w', 'perturbed w'])\n",
    "plt.show()\n",
    "\n",
    "plt.plot(τ, wd_F-wd)\n",
    "plt.legend(['perturbation'])\n",
    "plt.show()\n",
    "\n",
    "plt.semilogx(l_list, Cl_F)\n",
    "plt.plot(l_list, Cl_per)\n",
    "plt.legend(['fiducial w Cl', 'perturbed w Cl'])\n",
    "plt.show()"
   ]
  }
 ],
 "metadata": {
  "kernelspec": {
   "display_name": "Python 3",
   "language": "python",
   "name": "python3"
  },
  "language_info": {
   "codemirror_mode": {
    "name": "ipython",
    "version": 3
   },
   "file_extension": ".py",
   "mimetype": "text/x-python",
   "name": "python",
   "nbconvert_exporter": "python",
   "pygments_lexer": "ipython3",
   "version": "3.7.3"
  }
 },
 "nbformat": 4,
 "nbformat_minor": 2
}
