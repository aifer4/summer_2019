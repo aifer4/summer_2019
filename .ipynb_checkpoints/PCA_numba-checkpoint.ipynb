{
 "cells": [
  {
   "cell_type": "code",
   "execution_count": 2,
   "metadata": {},
   "outputs": [],
   "source": [
    "import params as par\n",
    "from background import *\n",
    "\n",
    "\n",
    "import numba\n",
    "from scipy.special import spherical_jn\n",
    "from scipy import integrate\n",
    "from scipy.interpolate import interp1d\n",
    "import numpy as np\n",
    "import matplotlib.pyplot as plt\n",
    "import copy\n",
    "import pickle\n",
    "plt.rcParams.update(par.plot_params)\n",
    "cp = copy.deepcopy\n",
    "plt.rcParams.update(par.plot_params)"
   ]
  },
  {
   "cell_type": "code",
   "execution_count": 3,
   "metadata": {},
   "outputs": [],
   "source": [
    "# Load data from GDM_FID.\n",
    "\n",
    "τ_solve = pickle.load(open( \"data/tau_solve.p\", \"rb\" ) )\n",
    "k_solve = pickle.load(open( \"data/k_solve.p\", \"rb\" ) )\n",
    "\n",
    "wd_F = pickle.load(open( \"data/w_d.p\", \"rb\" ) )\n",
    "Dwd_F = pickle.load(open( \"data/Dw_d.p\", \"rb\" ) )\n",
    "cs2d_F = pickle.load(open( \"data/cs2_d.p\", \"rb\" ) )\n",
    "\n",
    "δd = pickle.load(open( \"data/delta_d.p\", \"rb\" ) )\n",
    "vd = pickle.load(open( \"data/v_d.p\", \"rb\" ) )\n",
    "δɣ = pickle.load(open( \"data/delta_g.p\", \"rb\" ) )\n",
    "vɣ = pickle.load(open( \"data/v_g.p\", \"rb\" ) )\n",
    "Φ = pickle.load(open( \"data/phi.p\", \"rb\" ) )\n",
    "\n",
    "\n",
    "(wd, Dwd, cs2d) =(wd_F, Dwd_F, cs2d_F)\n",
    "\n",
    "N = len(τ_solve)"
   ]
  },
  {
   "cell_type": "code",
   "execution_count": 4,
   "metadata": {},
   "outputs": [],
   "source": [
    "\"\"\"1 fluid\"\"\"\n",
    "\n",
    "# set initial conditions\n",
    "Φ0  = Φ[:,0] \n",
    "δɣ0 = δɣ[:,0] \n",
    "vɣ0 = vɣ[:,0] \n",
    "δd0 = δd[:,0] \n",
    "vd0 = vd[:,0] \n",
    "\n",
    "Y0 = np.array([Φ0, δɣ0, vɣ0, δd0, vd0])\n",
    "\n",
    "@numba.jit(nopython=True)\n",
    "def DY(τ, Y, wd, Dwd):\n",
    "        dY = np.zeros((5,K_SOLVE))\n",
    "        Φ = Y[0,:]\n",
    "        δɣ = Y[1,:]\n",
    "        vɣ = Y[2,:]\n",
    "        δd = Y[3,:]\n",
    "        vd = Y[4,:]\n",
    "           \n",
    "        #compute background quantities\n",
    "        ℋi = 2*α*(α*τ/τr + 1)/(α**2 * (τ**2/τr) + 2*α*τ)\n",
    "        ai =  a_eq*((α*τ/τr)**2 + 2*α*τ/τr)\n",
    "        ybi = 1.68*ai*Ωb0/Ωr0\n",
    "\n",
    "        Ωbi = Ωb0 * ai**-3.\n",
    "        Ωɣi = Ωɣ0 * ai**-4.\n",
    "        Ωdi = Ωc0 * ai**-3. + Ων0 * ai**-4.\n",
    "\n",
    "        wdi = np.interp(τ, τ_solve, wd)\n",
    "        Dwdi = np.interp(τ, τ_solve, Dwd)\n",
    "        \n",
    "        #interpolate cs2\n",
    "        idx = np.searchsorted(τ_solve, τ) - 1\n",
    "        d = (τ - τ_solve[idx]) / (τ_solve[idx + 1] - τ_solve[idx])\n",
    "        cs2di = (1 - d) * cs2d[:,idx]   + cs2d[:,idx + 1] * d\n",
    "        \n",
    "        f = vd*Ωdi*(1+wdi) + 4./3.*Ωɣi*vɣ +  Ωbi*vɣ\n",
    "        #DΦ\n",
    "        dY[0,:]  = -ℋi*Φ + (3/2.*H0**2.*ai**2/k_solve)*f\n",
    "        #Dδɣ\n",
    "        dY[1,:] = -4./3.*k_solve*vɣ + 4*dY[0,:]\n",
    "        #Dvɣ\n",
    "        dY[2,:] = (-ℋi*ybi*vɣ + k_solve*δɣ/3)/(\n",
    "            4./3. + ybi) + k_solve*Φ\n",
    "        #Dδd\n",
    "        dY[3,:] = -(1+wdi)*(k_solve*vd-3*dY[0,:]) -\\\n",
    "            3*ℋi*(cs2di-wdi)*δd\n",
    "        # Dvd\n",
    "        dY[4,:] = -ℋi*(1-3*wdi)*vd - vd*Dwdi/(1+wdi) +\\\n",
    "            k_solve*δd*cs2di/(1+wdi) + k_solve*Φ\n",
    "\n",
    "        return dY"
   ]
  },
  {
   "cell_type": "code",
   "execution_count": 5,
   "metadata": {},
   "outputs": [],
   "source": [
    "# compute stepsizes for RK4\n",
    "stepsizes = np.diff(τ_solve)\n",
    "\n",
    "# implement RK4\n",
    "@numba.jit(nopython=True)\n",
    "def solve(wd, Dwd): \n",
    "    Y = np.zeros((len(τ_solve), 5, par.K_SOLVE))\n",
    "    Y[0,:,:] = Y0\n",
    "    for i, τi in enumerate(τ_solve[:-1]):\n",
    "        ss = stepsizes[i]\n",
    "        k1 = ss*DY(τi,Y[i,:,:], wd, Dwd)\n",
    "        k2 = ss*DY(τi+ss/2,Y[i,:,:]+k1/2, wd, Dwd)\n",
    "        k3 = ss*DY(τi+ss/2,Y[i,:,:]+k2/2, wd, Dwd)\n",
    "        k4 = ss*DY(τi+ss,Y[i,:,:]+k3, wd, Dwd)\n",
    "        \n",
    "        Y[i+1,:,:] = Y[i,:,:] + k1/6 + k2/3 + k3/3 + k4/6\n",
    "    return Y"
   ]
  },
  {
   "cell_type": "code",
   "execution_count": 6,
   "metadata": {},
   "outputs": [],
   "source": [
    "# k and l list for integration\n",
    "k_list2  = np.linspace(k_low,k_high,K_INT)\n",
    "l_list = np.array([i for i in range(2,50,1)]+[i for i in range(50,200,5)] + \n",
    "     [i for i in range(200, 1200, 20)])\n",
    "L = len(l_list)\n",
    "\n",
    "\"\"\"Precompute Bessel Functions\"\"\"\n",
    "# check if they're already stored\n",
    "if 'JLK' not in globals():\n",
    "    JLK = np.array([\n",
    "        spherical_jn(l, k_list2*(τ_now-τ_rec))\n",
    "                    for l in l_list])\n",
    "    DJLK = np.array([\n",
    "        spherical_jn(l, k_list2*(τ_now-τ_rec), derivative=True) \n",
    "        for l in l_list])\n"
   ]
  },
  {
   "cell_type": "code",
   "execution_count": 7,
   "metadata": {},
   "outputs": [],
   "source": [
    "k_grid = np.broadcast_to(k_list2,(len(l_list),K_INT))\n",
    "@numba.jit(nopython=True)\n",
    "def get_Cl(wd, Dwd):\n",
    "    # first compute mode evolution:\n",
    "    Yf = solve(wd, Dwd)[-1,:,:]\n",
    "    SW = Yf[0,:] + Yf[1,:]/4\n",
    "    DOP = Yf[2,:]\n",
    "    SWsd = SW*np.exp(-(k_solve*τs)**2)\n",
    "    DOPsd = DOP*np.exp(-(k_solve*τs)**2)\n",
    "    #ISW = 2*(2-8/y(xrec) + 16*xrec/y(xrec)**3)/(10*y(xrec))\n",
    "    \n",
    "    # get the power spectrum\n",
    "    SWfill = np.interp(k_list2, k_solve, SW)\n",
    "    DOPfill = np.interp(k_list2, k_solve, DOP)\n",
    "    Dl = SWfill*JLK + DOPfill*(DJLK-JLK/(2*k_list2*(τ_now-τ_rec)))\n",
    "\n",
    "    T = np.exp(-2*(k_list2*τs)**2 - (.03*k_list2*τ_rec)**2)\n",
    "    Cl_itgd = Dl**2 *T /k_list2\n",
    "    Cl = integrate.trapz(k_grid, Cl_itgd)\n",
    "    Cl_out = l_list*(l_list + 1)*Cl\n",
    "    return -Cl_out"
   ]
  },
  {
   "cell_type": "code",
   "execution_count": 8,
   "metadata": {},
   "outputs": [
    {
     "data": {
      "image/png": "[encoded data removed]",
      "text/plain": [
       "<Figure size 432x288 with 1 Axes>"
      ]
     },
     "metadata": {
      "needs_background": "light"
     },
     "output_type": "display_data"
    }
   ],
   "source": [
    "if True:\n",
    "    \"\"\"Compare to Planck 2015\"\"\"\n",
    "    Cl0 = get_Cl(wd_F, Dwd_F)\n",
    "    plt.plot(l_list, Cl0/Cl0[0], zorder=1)\n",
    "    im = plt.imread('img/Cl_planck_30p.PNG')\n",
    "    implot = plt.imshow(im, extent=[30,2500,0,8],zorder=0,aspect='auto')\n",
    "    plt.xlim(0,l_list[-1])\n",
    "    plt.show()"
   ]
  },
  {
   "cell_type": "code",
   "execution_count": 9,
   "metadata": {},
   "outputs": [],
   "source": [
    "# compile the functions and time\n",
    "time_functions=False\n",
    "solve(wd_F, Dwd_F)\n",
    "get_Cl(wd_F, Dwd_F)\n",
    "if time_functions:\n",
    "    print('timing mode evolution...')\n",
    "    %timeit solve(wd_F, Dwd_F)\n",
    "    print('\\n')\n",
    "    print('timing power spectrum computation...')\n",
    "    %timeit get_Cl(wd_F, Dwd_F)\n"
   ]
  },
  {
   "cell_type": "code",
   "execution_count": 28,
   "metadata": {},
   "outputs": [
    {
     "data": {
      "image/png": "[encoded data removed]",
      "text/plain": [
       "<Figure size 432x288 with 1 Axes>"
      ]
     },
     "metadata": {
      "needs_background": "light"
     },
     "output_type": "display_data"
    }
   ],
   "source": [
    "\"\"\"w-only PCA\"\"\"\n",
    "\n",
    "\n",
    "# number of components:\n",
    "N_C = 50\n",
    "width = 50\n",
    "# number of basis points\n",
    "N_B = (N_C-1) * width \n",
    "J = np.zeros((L, N_C))\n",
    "basis_type='sqr'\n",
    "\n",
    "# derivative stepsize:\n",
    "stepsize = 0.00001\n",
    "\n",
    "# set the w basis\n",
    "basis_domain = np.linspace(τ0, τ_rec, N_B)\n",
    "B = np.zeros((N_B,N_C))\n",
    "\n",
    "if basis_type =='sine':\n",
    "    # sin/cosine basis\n",
    "    for n in range(N_C//2):\n",
    "        s_n = np.sin(n*np.pi*basis_domain/τ_rec)\n",
    "        c_n = np.cos(n*np.pi*basis_domain/τ_rec)\n",
    "        B[:,2*n] = s_n\n",
    "        B[:,2*n+1] = c_n\n",
    "\n",
    "if basis_type =='int_sqr':\n",
    "    # integrated sq. pulse basis:\n",
    "    B[:,0] = np.ones(N_B)\n",
    "    for n in range(1, N_C):\n",
    "        B[width*(n-1):width*n,n]=np.linspace(0,1,width+1)[1:] - 0.5\n",
    "        B[width*n:,n]=0.5\n",
    "        B[:width*(n-1),n]=-0.5\n",
    "\n",
    "if basis_type =='sqr':\n",
    "    # sq. pulse basis:\n",
    "    B[:,0] = np.ones(N_B)\n",
    "    for n in range(1, N_C):\n",
    "        B[width*(n-1):width*n,n]=1\n",
    "\n",
    "# standard basis vectors:\n",
    "\n",
    "e = np.eye(N_C)\n",
    "\n",
    "# Calculate the fiducial power spectrum\n",
    "Cl0 = get_Cl(wd_F,Dwd)\n",
    "\n",
    "#plt.plot(np.gradient(B[:,0],axis=0))\n",
    "plt.plot(B[:,0:50])\n",
    "plt.show()"
   ]
  },
  {
   "cell_type": "code",
   "execution_count": null,
   "metadata": {},
   "outputs": [],
   "source": [
    "# Compute the partials:\n",
    "for n in range(N_C):\n",
    "    global wd, Dwd\n",
    "    # perturb w forward and backward\n",
    "    Θw = e[n] * stepsize\n",
    "    step = np.interp(τ_solve, basis_domain, B@Θw)\n",
    "    wd_fwd = wd_F + step\n",
    "    wd_bwd = wd_F - step\n",
    "    \n",
    "    # calculate Dw\n",
    "    Dwd_fwd = np.gradient(wd_fwd, τ_solve)\n",
    "    Dwd_bwd = np.gradient(wd_bwd, τ_solve)\n",
    "    \n",
    "    # evaluate Cl\n",
    "    Cl_fwd = get_Cl(wd_fwd, Dwd_fwd)\n",
    "    Cl_bwd = get_Cl(wd_bwd, Dwd_bwd)\n",
    "    J[:,n] = (Cl_fwd - Cl_bwd)/(2.*stepsize) \n"
   ]
  },
  {
   "cell_type": "code",
   "execution_count": 19,
   "metadata": {},
   "outputs": [
    {
     "name": "stdout",
     "output_type": "stream",
     "text": [
      "(128, 50)\n"
     ]
    },
    {
     "data": {
      "image/png": "[encoded data removed]",
      "text/plain": [
       "<Figure size 432x288 with 1 Axes>"
      ]
     },
     "metadata": {
      "needs_background": "light"
     },
     "output_type": "display_data"
    },
    {
     "data": {
      "image/png": "[encoded data removed]",
      "text/plain": [
       "<Figure size 432x288 with 1 Axes>"
      ]
     },
     "metadata": {
      "needs_background": "light"
     },
     "output_type": "display_data"
    }
   ],
   "source": [
    "print(np.shape(J))\n",
    "#compute Fisher matrix\n",
    "F = np.transpose(J)@np.eye(L)@J\n",
    "plt.imshow(J)\n",
    "plt.show()\n",
    "plt.imshow(F)\n",
    "plt.show()"
   ]
  },
  {
   "cell_type": "code",
   "execution_count": null,
   "metadata": {},
   "outputs": [],
   "source": [
    "w, v = np.linalg.eig(F)\n",
    "PC = np.real(v)\n",
    "plt.imshow(PC.T)\n",
    "plt.show()\n",
    "plt.semilogy(np.abs(w))\n",
    "plt.title('eigenvalues')\n",
    "plt.show()"
   ]
  },
  {
   "cell_type": "code",
   "execution_count": null,
   "metadata": {},
   "outputs": [],
   "source": [
    "print(np.shape(PC))\n",
    "PF = B@PC\n",
    "plt.plot(basis_domain,PF[:,0:5])\n",
    "#plt.ylim(-80,80)\n",
    "plt.show()"
   ]
  },
  {
   "cell_type": "code",
   "execution_count": null,
   "metadata": {},
   "outputs": [],
   "source": [
    "PF_Dw = np.gradient(PF[:,0:5], basis_domain, axis=0)\n",
    "plt.plot(PF_Dw*np.sign(PF_Dw[0,0:5]+0.000001))\n",
    "plt.show()"
   ]
  },
  {
   "cell_type": "code",
   "execution_count": null,
   "metadata": {},
   "outputs": [],
   "source": []
  },
  {
   "cell_type": "code",
   "execution_count": null,
   "metadata": {},
   "outputs": [],
   "source": []
  }
 ],
 "metadata": {
  "kernelspec": {
   "display_name": "Python 3",
   "language": "python",
   "name": "python3"
  },
  "language_info": {
   "codemirror_mode": {
    "name": "ipython",
    "version": 3
   },
   "file_extension": ".py",
   "mimetype": "text/x-python",
   "name": "python",
   "nbconvert_exporter": "python",
   "pygments_lexer": "ipython3",
   "version": "3.7.3"
  }
 },
 "nbformat": 4,
 "nbformat_minor": 2
}
