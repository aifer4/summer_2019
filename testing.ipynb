{
 "cells": [
  {
   "cell_type": "code",
   "execution_count": 1,
   "metadata": {},
   "outputs": [],
   "source": [
    "import par\n",
    "import modes\n",
    "import numpy as np\n",
    "import matplotlib.pyplot as plt"
   ]
  },
  {
   "cell_type": "code",
   "execution_count": null,
   "metadata": {},
   "outputs": [],
   "source": [
    "\"\"\"Set the A (scale factor) and K (wavenumber) arrays. They can be of any length\"\"\"\n",
    "# It is important to remember that the output array is half the size\n",
    "# of the input array because RK4 is used to solve the ODE.\n",
    "A = np.linspace(par.a0, par.a_rec, 2*par.NT)\n",
    "K = np.linspace(1,1000,par.NK)\n",
    "\n",
    "\"\"\"First solve using 3-fluid to get GDM parameters\"\"\"\n",
    "Y3 = modes.solve_3fld(A, K)\n",
    "Phi3 = Y3[:, 0, :].T\n",
    "deltaG3 = Y3[:, 1, :].T\n",
    "vG3 = Y3[:, 2, :].T\n",
    "deltaC3 =Y3[:, 3, :].T\n",
    "vC3 = Y3[:, 4, :].T\n",
    "deltaN3 = Y3[:, 5, :].T\n",
    "vN3 =Y3[:, 6, :].T\n",
    "\n",
    "OmegaB = par.OmegaB0 * A[::2]**-3\n",
    "OmegaC = par.OmegaC0 * A[::2]**-3\n",
    "OmegaN = par.OmegaN0 * A[::2]**-4\n",
    "OmegaG = par.OmegaG0 * A[::2]**-4\n",
    "OmegaD = OmegaN + OmegaC\n",
    "\n",
    "# calculate the GDM functions\n",
    "wD = OmegaN/(3*OmegaD)\n",
    "deltaD = (OmegaC*deltaC3 + OmegaN*deltaN3)/OmegaD\n",
    "vD = (OmegaC*vC3 + 4/3*OmegaN*vN3)/((1+wD)*OmegaD)\n",
    "cs2D = (deltaN3*OmegaN*1/3)/(deltaD*OmegaD)\n",
    "\n",
    "plt.rcParams.update(par.plot_params)\n",
    "plt.plot(A[::2], deltaD.T[:,::20])\n",
    "# Now the GDM functions can be fed back into 2-fluid:\n",
    "Y2 = modes.solve_2fld(A[::2], K, wD, cs2D, deltaD[:,0], vD[:,0])\n",
    "plt.plot(A[::4],Y2[:,3,::20])\n",
    "plt.show()"
   ]
  },
  {
   "cell_type": "code",
   "execution_count": null,
   "metadata": {},
   "outputs": [],
   "source": []
  },
  {
   "cell_type": "code",
   "execution_count": null,
   "metadata": {},
   "outputs": [],
   "source": []
  },
  {
   "cell_type": "code",
   "execution_count": null,
   "metadata": {},
   "outputs": [],
   "source": []
  }
 ],
 "metadata": {
  "kernelspec": {
   "display_name": "Python 3",
   "language": "python",
   "name": "python3"
  },
  "language_info": {
   "codemirror_mode": {
    "name": "ipython",
    "version": 3
   },
   "file_extension": ".py",
   "mimetype": "text/x-python",
   "name": "python",
   "nbconvert_exporter": "python",
   "pygments_lexer": "ipython3",
   "version": "3.7.3"
  }
 },
 "nbformat": 4,
 "nbformat_minor": 2
}
