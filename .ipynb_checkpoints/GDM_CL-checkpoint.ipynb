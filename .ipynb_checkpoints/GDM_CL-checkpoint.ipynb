{
 "cells": [
  {
   "cell_type": "markdown",
   "metadata": {},
   "source": [
    "\n",
    "\n"
   ]
  },
  {
   "cell_type": "code",
   "execution_count": null,
   "metadata": {},
   "outputs": [],
   "source": []
  },
  {
   "cell_type": "markdown",
   "metadata": {},
   "source": [
    "Get Cl from GDM"
   ]
  },
  {
   "cell_type": "code",
   "execution_count": 1,
   "metadata": {},
   "outputs": [],
   "source": [
    "from numba import jit\n",
    "\n",
    "from scipy import integrate\n",
    "from scipy.interpolate import interp1d\n",
    "from scipy.special import spherical_jn\n",
    "import numpy as np\n",
    "import matplotlib.pyplot as plt\n",
    "import copy\n",
    "import pickle\n",
    "import matplotlib as mpl"
   ]
  },
  {
   "cell_type": "code",
   "execution_count": 2,
   "metadata": {},
   "outputs": [],
   "source": [
    "\"\"\"Settings and Parameters\"\"\"\n",
    "\n",
    "# Plot Settings\n",
    "plot_params = {'legend.fontsize': 'x-large',\n",
    "               'figure.figsize': (13, 7),\n",
    "               'axes.labelsize': 'x-large',\n",
    "               'axes.titlesize':'x-large',\n",
    "               'xtick.labelsize':'x-large',\n",
    "               'ytick.labelsize':'x-large',\n",
    "               'font.family' :'serif',\n",
    "               'font.sans-serif' :'Garamond'}\n",
    "plt.rcParams.update(plot_params)\n",
    "\n",
    "\n",
    "# Parameters\n",
    "h = 0.05\n",
    "H0 = 67.\n",
    "Ωb0 = 0.04968\n",
    "Ωc0 = 0.26754\n",
    "Ωɣ0 = 5.50234e-5\n",
    "Ων0 = 3.74248e-5\n",
    "\n",
    "Ωr0 = Ωɣ0 + Ων0\n",
    "Ωm0 = Ωb0 + Ωc0\n",
    "ΩΛ  = 1-(Ωb0 + Ωc0 + Ωɣ0)\n",
    "\n",
    "\n",
    "z_rec = 1090\n",
    "a_rec = 1/(1+z_rec)\n",
    "a_eq  = Ωr0/Ωm0\n",
    "\n",
    "# Numerical Settings\n",
    "τ0 = .001 / (H0 * 1000)\n",
    "\n",
    "k_low = .0001 *H0*1000\n",
    "k_high= 2.0  *H0*1000\n",
    "\n",
    "N = 100\n",
    "K = 200"
   ]
  },
  {
   "cell_type": "code",
   "execution_count": 3,
   "metadata": {},
   "outputs": [],
   "source": [
    "\"\"\"Background Cosmology\"\"\"\n",
    "\n",
    "def tau_itgd(a):\n",
    "    \"\"\"conformal time integrand\"\"\"\n",
    "    return  1/(a**2* H0 * np.sqrt(Ωm0*a**-3 + Ωr0*a**-4 + ΩΛ))\n",
    "\n",
    "(τ_rec,_) = integrate.quad(tau_itgd,0,a_rec)\n",
    "(τ_eq,_) = integrate.quad(tau_itgd,0,a_eq)\n",
    "(τ_now,_) = integrate.quad(tau_itgd,0,1)\n",
    "τr = 1/(np.sqrt(Ωm0/a_rec)*H0/2)\n",
    "\n",
    "\n",
    "α = np.sqrt(a_rec/a_eq)\n",
    "a = lambda τ: a_eq*((α*τ/τr)**2 + 2*α*τ/τr)\n",
    "y = lambda τ: a(τ)/a_eq\n",
    "ℋ = lambda τ: 2*α*(α*τ/τr + 1)/(α**2 * (τ**2/τr) + 2*α*τ)\n",
    "yb = lambda τ: 1.68*y(τ)*Ωb0/Ωm0\n",
    "\n",
    "Ωb = lambda τ: Ωb0 * a(τ)**-3.\n",
    "Ωc = lambda τ: Ωc0 * a(τ)**-3.\n",
    "Ωɣ = lambda τ: Ωɣ0 * a(τ)**-4.\n",
    "Ων = lambda τ: Ων0 * a(τ)**-4.\n",
    "Ωm = lambda τ: Ωm0 * a(τ)**-3.\n",
    "Ωr = lambda τ: Ωr0 * a(τ)**-4.\n",
    "ΩT = lambda τ: Ωm(τ) + Ωr(τ)\n",
    "Ωd = lambda τ: Ωc(τ) + Ων(τ)"
   ]
  },
  {
   "cell_type": "code",
   "execution_count": 4,
   "metadata": {},
   "outputs": [],
   "source": [
    "# Load data from 3-fluid.\n",
    "τ = pickle.load(open( \"data/tau_vals.p\", \"rb\" ) )\n",
    "k_list = pickle.load(open( \"data/k_vals.p\", \"rb\" ) )\n",
    "\n",
    "wd = pickle.load(open( \"data/w_d.p\", \"rb\" ) )\n",
    "cs2d = pickle.load(open( \"data/cs2_d.p\", \"rb\" ) )\n",
    "\n",
    "δd0 = pickle.load(open( \"data/delta_d_init.p\", \"rb\" ) )\n",
    "vd0 = pickle.load(open( \"data/v_d_init.p\", \"rb\" ) )\n",
    "δɣ0 = pickle.load(open( \"data/delta_g_init.p\", \"rb\" ) )\n",
    "vɣ0 = pickle.load(open( \"data/v_g_init.p\", \"rb\" ) )\n",
    "Φ0 = pickle.load(open( \"data/phi_init.p\", \"rb\" ) )\n",
    "\n",
    "\n",
    "Dwd = np.gradient(wd,τ)\n",
    "wd_ = interp1d(τ,wd, fill_value=\"extrapolate\")\n",
    "Dwd_ = interp1d(τ,Dwd, fill_value=\"extrapolate\")\n",
    "cs2d_ = interp1d(τ,cs2d, fill_value=\"extrapolate\")"
   ]
  },
  {
   "cell_type": "code",
   "execution_count": 5,
   "metadata": {},
   "outputs": [],
   "source": [
    "\"\"\"1-fluid mode evolution\"\"\"\n",
    "\n",
    "# Initialize arrays:\n",
    "\n",
    "\n",
    "SW = np.zeros(K)\n",
    "DOP = np.zeros(K)\n",
    "\n",
    "τ = np.linspace(τ0, τ_rec, N)\n",
    "\n",
    "Φ1 = np.zeros((K,N))\n",
    "δd = np.zeros((K,N))\n",
    "vd = np.zeros((K,N))\n",
    "\n",
    "for i, k in enumerate(k_list):\n",
    "    \n",
    "    # solve the ODE\n",
    "    def DY(τ, Y):\n",
    "        [Φ, δɣ, vɣ, δd, vd] = Y\n",
    "        (wd, Dwd, cs2d) = (wd_(τ), Dwd_(τ), cs2d_(τ)[i])\n",
    "        \n",
    "        f = vd*Ωd(τ)*(1+wd) + 4./3.*Ωɣ(τ)*vɣ +  Ωb(τ)*vɣ\n",
    "        \n",
    "        DΦ  = -ℋ(τ)*Φ + (3/2.*H0**2.*a(τ)**2/k)*f\n",
    "        \n",
    "        Dδɣ = -4./3.*k*vɣ + 4*DΦ\n",
    "        Dvɣ = (-ℋ(τ)*yb(τ)*vɣ + k*δɣ/3)/(\n",
    "            4./3. + yb(τ)) + k*Φ\n",
    "        \n",
    "        Dδd = -(1+wd)*(k*vd-3*DΦ) - 3*ℋ(τ)*(cs2d-wd)*δd\n",
    "        Dvd = -ℋ(τ)*(1-3*wd)*vd - vd*Dwd/(1+wd) + k*δd*cs2d/(1+wd) + k*Φ\n",
    "        \n",
    "        return [DΦ, Dδɣ, Dvɣ, Dδd, Dvd]\n",
    "    \n",
    "    Y0 = [Φ0[i], δɣ0[i], vɣ0[i], δd0[i], vd0[i]]\n",
    "\n",
    "    [Φ_rec, δɣ_rec, vɣ_rec, δd_rec, vd_rec]= integrate.solve_ivp(\n",
    "        DY, [τ0, τ_rec], Y0,method='RK45',t_eval=[τ_rec])['y'][:,0]\n",
    "    \n",
    "    # Collect Source Terms:\n",
    "    SW[i] = Φ_rec + δɣ_rec/4\n",
    "    DOP[i] = vɣ_rec\n",
    "\n",
    "#add silk damping\n",
    "k = k_list\n",
    "τs = 0.6*Ωm0**(.25) * Ωb0**(-.5)*a_rec**(.75)*(H0/100)**(-.5)*τr\n",
    "SWsd = SW*np.exp(-(k*τs)**2)\n",
    "DOPsd = DOP*np.exp(-(k*τs)**2)\n",
    "SW_ = interp1d(k, SW, fill_value=\"extrapolate\")\n",
    "DOP_ = interp1d(k, DOP, fill_value=\"extrapolate\")\n",
    "SWsd_ = interp1d(k, SWsd, fill_value=\"extrapolate\")\n",
    "DOPsd_ = interp1d(k, DOPsd, fill_value=\"extrapolate\")\n"
   ]
  },
  {
   "cell_type": "code",
   "execution_count": 6,
   "metadata": {},
   "outputs": [
    {
     "data": {
      "image/png": "[encoded data removed]",
      "text/plain": [
       "<Figure size 936x504 with 1 Axes>"
      ]
     },
     "metadata": {
      "needs_background": "light"
     },
     "output_type": "display_data"
    }
   ],
   "source": [
    "plt.plot(np.log10(k*τr), -SWsd)\n",
    "plt.plot(np.log10(k*τr), -DOPsd)\n",
    "plt.ylim(-2,2)\n",
    "im = plt.imread('img/seljak_1.png')\n",
    "#implot = plt.imshow(im, extent=[-1,2.2,-1.5,1.5],aspect='auto',zorder=0)\n",
    "plt.show()\n",
    "\n"
   ]
  },
  {
   "cell_type": "code",
   "execution_count": 7,
   "metadata": {},
   "outputs": [],
   "source": [
    "\"\"\"Precompute Bessel Functions\"\"\"\n",
    "\n",
    "l_low = 2\n",
    "l_high = 1200\n",
    "\n",
    "l_list = np.array([2,3,4,5,6,7,8,10,12,15]+[i for i in range(20,100,10)]+\n",
    "                    [i for i in range(120,500,20)] + [i for i in  range(550,1250,50)])\n",
    "#l_list = np.geomspace(l_low, l_high,L,dtype=int)\n",
    "\n",
    "l_list = np.array([i for i in range(2,50,1)]+[i for i in range(50,200,5)] + \n",
    "     [i for i in range(200, 1200, 20)])\n",
    "L = len(l_list)"
   ]
  },
  {
   "cell_type": "code",
   "execution_count": null,
   "metadata": {},
   "outputs": [],
   "source": [
    "\"\"\"Get power spectrum\"\"\"\n",
    "K2 = 10000\n",
    "k_list2  = np.linspace(k_low,k_high,K2)\n",
    "\n",
    "JLK = np.array([\n",
    "    spherical_jn(l, k_list2*(τ_now-τ_rec))\n",
    "                for l in l_list])\n",
    "DJLK = np.array([\n",
    "    spherical_jn(l, k_list2*(τ_now-τ_rec), derivative=True) \n",
    "    for l in l_list])\n",
    "Dl = SW_(k_list2)*JLK + DOP_(k_list2)*(DJLK-JLK/(2*k_list2*(τ_now-τ_rec)))\n",
    "\n",
    "T = lambda k: np.exp(-2*(k*τs)**2 - (.03*k*τ_rec)**2)\n",
    "Cl_itgd = Dl**2 *T(k_list2) /k_list2\n",
    "k_values = np.broadcast_to(k_list2,(L,K2))\n",
    "Cl = integrate.trapz(k_values, Cl_itgd, axis=1)"
   ]
  },
  {
   "cell_type": "code",
   "execution_count": null,
   "metadata": {},
   "outputs": [],
   "source": [
    "plt.plot(l_list,Cl*l_list*(l_list+1)/(Cl[0]*6))\n",
    "plt.xlim(0,1200)\n",
    "\n",
    "\n",
    "im = plt.imread('img/seljak_2.png')\n",
    "implot = plt.imshow(im, extent=[0,1200,0,8],zorder=0,aspect='auto')\n",
    "plt.show()"
   ]
  },
  {
   "cell_type": "code",
   "execution_count": null,
   "metadata": {},
   "outputs": [],
   "source": []
  }
 ],
 "metadata": {
  "anaconda-cloud": {},
  "kernelspec": {
   "display_name": "Python 3",
   "language": "python",
   "name": "python3"
  },
  "language_info": {
   "codemirror_mode": {
    "name": "ipython",
    "version": 3
   },
   "file_extension": ".py",
   "mimetype": "text/x-python",
   "name": "python",
   "nbconvert_exporter": "python",
   "pygments_lexer": "ipython3",
   "version": "3.7.3"
  }
 },
 "nbformat": 4,
 "nbformat_minor": 2
}
