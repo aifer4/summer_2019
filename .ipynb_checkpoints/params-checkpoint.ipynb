{
 "cells": [
  {
   "cell_type": "code",
   "execution_count": null,
   "metadata": {},
   "outputs": [],
   "source": [
    "\"\"\"Settings and Parameters\"\"\"\n",
    "\n",
    "# Plot Settings\n",
    "plot_params = {'legend.fontsize': 'x-large',\n",
    "               'figure.figsize': (13, 7),\n",
    "               'axes.labelsize': 'x-large',\n",
    "               'axes.titlesize':'x-large',\n",
    "               'xtick.labelsize':'x-large',\n",
    "               'ytick.labelsize':'x-large',\n",
    "               'font.family' :'serif',\n",
    "               'font.sans-serif' :'Garamond'}\n",
    "\n",
    "\n",
    "# Parameters\n",
    "H0 = 67.\n",
    "Ωb0 = 0.04968\n",
    "Ωc0 = 0.26754\n",
    "Ωɣ0 = 5.50234e-5\n",
    "Ων0 = 3.74248e-5\n",
    "\n",
    "Ωr0 = Ωɣ0 + Ων0\n",
    "Ωm0 = Ωb0 + Ωc0\n",
    "ΩΛ  = 1-(Ωb0 + Ωc0 + Ωɣ0)\n",
    "\n",
    "z_rec = 1090\n",
    "a_rec = 1/(1+z_rec)\n",
    "a_eq  = Ωr0/Ωm0\n",
    "\n",
    "# Numerical Settings\n",
    "τ0 = .001 / (H0 * 1000)\n",
    "\n",
    "k_low = .0001 *H0*1000\n",
    "k_high= 2.0  *H0*1000\n",
    "\n",
    "N = 100\n",
    "K = 100"
   ]
  }
 ],
 "metadata": {
  "kernelspec": {
   "display_name": "Python 3",
   "language": "python",
   "name": "python3"
  },
  "language_info": {
   "codemirror_mode": {
    "name": "ipython",
    "version": 3
   },
   "file_extension": ".py",
   "mimetype": "text/x-python",
   "name": "python",
   "nbconvert_exporter": "python",
   "pygments_lexer": "ipython3",
   "version": "3.7.3"
  }
 },
 "nbformat": 4,
 "nbformat_minor": 2
}
