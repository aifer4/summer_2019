{
 "cells": [
  {
   "cell_type": "markdown",
   "metadata": {},
   "source": [
    "\n",
    "\n"
   ]
  },
  {
   "cell_type": "markdown",
   "metadata": {},
   "source": [
    "## Fiducial mode evolution and GDM parameters\n",
    "In this file we evolve each mode in time from `τ_0` to the time of recombination `τ_rec`, and then obtain the fiducial functions $w_d(τ)$ and $c^2_{sd}(k,τ)$ (equation of state and sound speed)."
   ]
  },
  {
   "cell_type": "code",
   "execution_count": 1,
   "metadata": {},
   "outputs": [
    {
     "ename": "SyntaxError",
     "evalue": "invalid syntax (params.py, line 68)",
     "output_type": "error",
     "traceback": [
      "Traceback \u001b[1;36m(most recent call last)\u001b[0m:\n",
      "  File \u001b[0;32m\"C:\\ProgramData\\Anaconda3\\lib\\site-packages\\IPython\\core\\interactiveshell.py\"\u001b[0m, line \u001b[0;32m3296\u001b[0m, in \u001b[0;35mrun_code\u001b[0m\n    exec(code_obj, self.user_global_ns, self.user_ns)\n",
      "\u001b[1;36m  File \u001b[1;32m\"<ipython-input-1-ee75af150e25>\"\u001b[1;36m, line \u001b[1;32m1\u001b[1;36m, in \u001b[1;35m<module>\u001b[1;36m\u001b[0m\n\u001b[1;33m    import params as par\u001b[0m\n",
      "\u001b[1;36m  File \u001b[1;32m\"C:\\Users\\Max Aifer\\Documents\\cosmology\\summer_2019\\params.py\"\u001b[1;36m, line \u001b[1;32m68\u001b[0m\n\u001b[1;33m    plot_params = {'legend.fontsize': 'x-large',\u001b[0m\n\u001b[1;37m              ^\u001b[0m\n\u001b[1;31mSyntaxError\u001b[0m\u001b[1;31m:\u001b[0m invalid syntax\n"
     ]
    }
   ],
   "source": [
    "import params as par\n",
    "from params import *\n",
    "from background import *\n",
    "\n",
    "from scipy import integrate\n",
    "from scipy.interpolate import interp1d\n",
    "import numpy as np\n",
    "import matplotlib.pyplot as plt\n",
    "import copy\n",
    "import pickle\n",
    "import numba\n",
    "from IPython.display import IFrame\n",
    "from IPython.display import ScribdDocument\n",
    "plt.rcParams.update(par.plot_params)"
   ]
  },
  {
   "cell_type": "code",
   "execution_count": null,
   "metadata": {},
   "outputs": [],
   "source": [
    "# set the τ and k arrays. These are currently both log-spaced.\n",
    "τ_solve = np.geomspace(τ0, τ_rec, par.N)\n",
    "k_solve = np.geomspace(par.k_low, par.k_high, par.K_SOLVE)"
   ]
  },
  {
   "cell_type": "markdown",
   "metadata": {},
   "source": [
    "We are evolving the fluid equations from [seljak 1994](https://arxiv.org/abs/astro-ph/9406050), with the addition of neutrinos. You can find Seljak's fluid equations in the Seljak's paper embedded below (Eq. 9). We also use the initial conditions from the same paper, although I have recently learned that these may not be valid when the equation of state is varied. We set the initial values for the neutrino perturbations equal to those of the photon perturbations. In the cell below, the initial conditions are specified, and the function `DY_3fld` is defined, which returns the derivatives of the perturbations $\\Phi, \\delta_\\gamma, v_\\gamma, \\delta_c, v_c, \\delta_\\nu, v_\\nu$, given the values of these perturbations and the conformal time."
   ]
  },
  {
   "cell_type": "code",
   "execution_count": null,
   "metadata": {},
   "outputs": [],
   "source": [
    "ScribdDocument(420438163, width=700, height=450,start_page=5,view_mode='scroll')"
   ]
  },
  {
   "cell_type": "code",
   "execution_count": null,
   "metadata": {},
   "outputs": [],
   "source": [
    "\"\"\"3 fluid\"\"\"\n",
    "# create arrays for fluid variables\n",
    "Φ0, δɣ0, vɣ0, δc0, vc0, δν0, vν0 = np.zeros(K_SOLVE), np.zeros(K_SOLVE), np.zeros(K_SOLVE),\\\n",
    "    np.zeros(K_SOLVE), np.zeros(K_SOLVE), np.zeros(K_SOLVE),\\\n",
    "    np.zeros(K_SOLVE)\n",
    "\n",
    "# set initial conditions\n",
    "Φ0 = np.ones(K_SOLVE)\n",
    "δɣ0 = -2*Φ0*(1 + 3*y(τ0)/16)\n",
    "vɣ0 = -k_solve/(ℋ(τ0)) * (δɣ0/4 + (2*k_solve**2 * (1 + y(τ0))*Φ0) /\n",
    "                          (9*(ℋ(τ0))**2 * (4./3. + y(τ0))))\n",
    "δc0 = .75 * δɣ0\n",
    "vc0 = vɣ0\n",
    "δν0 = δɣ0\n",
    "vν0 = vɣ0\n",
    "\n",
    "\n",
    "Y0 = np.array([Φ0, δɣ0, vɣ0, δc0, vc0, δν0, vν0])\n",
    "\n",
    "# the numba decorator 'compiles' the function the\n",
    "# first time it is called and caches a binary version\n",
    "# to speed up subsequent calls.\n",
    "@numba.jit(nopython=True) \n",
    "def DY_3fld(τ, Y):\n",
    "    dY = np.zeros((7, K_SOLVE))\n",
    "    Φ = Y[0, :]\n",
    "    δɣ = Y[1, :]\n",
    "    vɣ = Y[2, :]\n",
    "    δc = Y[3, :]\n",
    "    vc = Y[4, :]\n",
    "    δν = Y[5, :]\n",
    "    vν = Y[6, :]\n",
    "\n",
    "    # compute background quantities for the current\n",
    "    # time step.\n",
    "    ℋi = 2*α*(α*τ/τr + 1)/(α**2 * (τ**2/τr) + 2*α*τ)\n",
    "    ai = a_eq*((α*τ/τr)**2 + 2*α*τ/τr)\n",
    "    ybi = 1.68*ai*Ωb0/Ωr0\n",
    "    Ωbi = Ωb0 * ai**-3.\n",
    "    Ωci = Ωc0 * ai**-3.\n",
    "    Ωɣi = Ωɣ0 * ai**-4.\n",
    "    Ωνi = Ων0 * ai**-4\n",
    "\n",
    "    # compute the derivatives of the perturbations.\n",
    "    DΦ = -ℋi*Φ + (3/2.*H0**2.*ai**2/k_solve) *\\\n",
    "        (4./3.*(Ωɣi*vɣ + Ωνi*vν) + Ωci*vc + Ωbi*vɣ)\n",
    "\n",
    "    Dδɣ = -4./3.*k_solve*vɣ + 4*DΦ\n",
    "    Dvɣ = (-ℋi * ybi*vɣ + k_solve*δɣ/3)/(\n",
    "        4./3. + ybi) + k_solve*Φ\n",
    "\n",
    "    Dδc = -k_solve*vc + 3*DΦ\n",
    "    Dvc = -ℋi*vc + k_solve*Φ\n",
    "\n",
    "    Dδν = -4./3.*k_solve*vν + 4*DΦ\n",
    "    Dvν = k_solve*δν/4 + k_solve*Φ\n",
    "\n",
    "    Dδν = -4./3.*k_solve*vν + 4*DΦ\n",
    "    Dvν = k_solve*δν/4. + k_solve*Φ\n",
    "\n",
    "    dY[0, :] = DΦ\n",
    "    dY[1, :] = Dδɣ\n",
    "    dY[2, :] = Dvɣ\n",
    "    dY[3, :] = Dδc\n",
    "    dY[4, :] = Dvc\n",
    "    dY[5, :] = Dδν\n",
    "    dY[6, :] = Dvν\n",
    "\n",
    "    return dY"
   ]
  },
  {
   "cell_type": "markdown",
   "metadata": {},
   "source": [
    "In the cell below, the system of ODEs is integrated numerically using the Runge-Kutta 4 algorithm (RK4)."
   ]
  },
  {
   "cell_type": "code",
   "execution_count": null,
   "metadata": {},
   "outputs": [],
   "source": [
    "# compute stepsizes for RK4\n",
    "stepsizes = np.diff(τ_solve)\n",
    "\n",
    "@numba.jit(nopython=True)\n",
    "def solve_3fld():\n",
    "    \"\"\"\n",
    "    Numerically integrate the ODE specified by DY_3fld and initial\n",
    "    conditions Y0 using RK4. There are no arguments because all parameters\n",
    "    are set to their fiducial values.\n",
    "    \n",
    "    Returns:\n",
    "    -Y ([float]): An N×7×K array, where K is the number of wavenumbers and N\n",
    "    the number of timesteps. First dimension indexes conformal time, second indexes\n",
    "    the list of perturbations (in the order Φ,𝛿𝛾,𝑣𝛾,𝛿𝑐,𝑣𝑐,𝛿𝜈,𝑣𝜈), and the last dimension\n",
    "    indexes the wavenumber.\n",
    "    \"\"\"\n",
    "    \n",
    "    Y = np.zeros((len(τ_solve), 7, par.K_SOLVE))\n",
    "    Y[0, :, :] = Y0\n",
    "    # RK4 implementation\n",
    "    for i, τi in enumerate(τ_solve[:-1]):\n",
    "        ss = stepsizes[i]\n",
    "        k1 = ss*DY_3fld(τi, Y[i, :, :])\n",
    "        k2 = ss*DY_3fld(τi+ss/2, Y[i, :, :]+k1/2)\n",
    "        k3 = ss*DY_3fld(τi+ss/2, Y[i, :, :]+k2/2)\n",
    "        k4 = ss*DY_3fld(τi+ss, Y[i, :, :]+k3)\n",
    "\n",
    "        Y[i+1, :, :] = Y[i, :, :] + k1/6 + k2/3 + k3/3 + k4/6\n",
    "    return Y\n",
    "\n",
    "\n",
    "Y = solve_3fld()\n",
    "Φ = Y[:, 0, :].T\n",
    "δɣ = Y[:, 1, :].T\n",
    "vɣ = Y[:, 2, :].T\n",
    "δc = Y[:, 3, :].T\n",
    "vc = Y[:, 4, :].T\n",
    "δν = Y[:, 5, :].T\n",
    "vν = Y[:, 6, :].T"
   ]
  },
  {
   "cell_type": "markdown",
   "metadata": {},
   "source": [
    "## Generalized Dark Matter (GDM)\n",
    "Seljak's fluid equations can be derived from general relativity, and a more general version is given in [Ma and Bertshinger's famous 1995 paper](https://arxiv.org/abs/astro-ph/9506072). See Equations (30) in the embedded pdf below. Note that in our notation, $\\frac{\\delta P}{\\delta \\rho}$ is replaced by $c_s^2$. Also, Seljak's velocity $v$ is equal to $k \\theta$, where $\\theta$ is the quantity in Ma and Bertschinger's Eq. (30) and $k$ is the wavenumber of a spatial mode. Finally, the variable $\\sigma$ in M&B Eq.(30) will be always set to zero, while the variable $\\psi$ in M&B Eq.(30) is equal to Seljak's $\\phi$. As M&B write in the paragraph directly following Eq. (30), extra terms must be added to the equation when it is used to model multiple *interacting* fluids, which is the case for Seljak's $\\delta_\\gamma$, as it represents the coupled photon/baryon fluid."
   ]
  },
  {
   "cell_type": "code",
   "execution_count": null,
   "metadata": {},
   "outputs": [],
   "source": [
    "ScribdDocument(420439621, width=700, height=500,start_page=12,start_zoom=2,view_mode='scroll')"
   ]
  },
  {
   "cell_type": "markdown",
   "metadata": {},
   "source": [
    "We can define functions $w_T(\\tau)$ and $c_{sT}^2(k,\\tau)$ such that plugging them into M&B's Eq. (30) gives the behavior of the averaged density and velocity perturbations of any number of different fluid components. The correct expressions are:\n",
    "$$\\delta_T = \\frac{\\sum_i \\delta_i \\rho_i}{\\sum_i \\rho_i}, v_T = \\frac{\\sum_i \\delta_i \\rho_i}{\\sum_i \\rho_i}$$\n",
    "$$w_T = \\frac{\\sum_i \\rho_i w_i}{\\sum_i \\rho_i}, c_{sT}^2 = \\frac{\\sum_i \\delta_i w_i \\rho_i}{\\sum_i \\rho_i}$$\n",
    "\n",
    "In the pdf embedded below, I show that with these definitions we recover M&B's Equation (30) for a mixture of noninteracting fluids. Then we use this formalism to represent the 'dark' fluid components (cold dark matter and neutrinos) as a single fluid with a time-dependent equation of state $w_d(\\tau)$ and sound speed $c_{sd}^2(k,\\tau)$. That computation is done in the python cell following the pdf."
   ]
  },
  {
   "cell_type": "code",
   "execution_count": null,
   "metadata": {},
   "outputs": [],
   "source": [
    "ScribdDocument(420439326, width=700, height=450,start_page=5,view_mode='scroll')"
   ]
  },
  {
   "cell_type": "code",
   "execution_count": null,
   "metadata": {},
   "outputs": [],
   "source": [
    "\"\"\"Extract GDM functions\"\"\"\n",
    "\n",
    "τ = τ_solve\n",
    "wd = Ων(τ)/(3*Ωd(τ))\n",
    "Dwd = np.gradient(wd, τ)\n",
    "δd = (Ωc(τ)*δc + Ων(τ)*δν)/Ωd(τ)\n",
    "vd = (Ωc(τ)*vc + 4/3*Ων(τ)*vν)/((1+wd)*Ωd(τ))\n",
    "cs2d = (δν*Ων(τ)*1/3)/(δd*Ωd(τ))\n",
    "\n",
    "if settings['dark matter only']:\n",
    "    \"\"\"overwrite GDM quantities (for cdm + neutrinos) with \n",
    "    the values corresponding to cdm only.\"\"\"\n",
    "    wd[:] = 0\n",
    "    Dwd[:] = 0\n",
    "    δd = δc\n",
    "    vd = vc\n",
    "    cs2d[:] = 0\n",
    "\n",
    "\n",
    "δd_ = interp1d(τ, δd, fill_value=\"extrapolate\")\n",
    "vd_ = interp1d(τ, vd, fill_value=\"extrapolate\")\n",
    "wd_ = interp1d(τ, wd, fill_value=\"extrapolate\")\n",
    "Dwd_ = interp1d(τ, Dwd, fill_value=\"extrapolate\")\n",
    "cs2d_ = interp1d(τ, cs2d, fill_value=\"extrapolate\")"
   ]
  },
  {
   "cell_type": "code",
   "execution_count": null,
   "metadata": {},
   "outputs": [],
   "source": [
    "\"\"\"Save Outputs\"\"\"\n",
    "\n",
    "pickle.dump(τ_solve, open(\"data/tau_solve.p\", \"wb\"))\n",
    "pickle.dump(k_solve, open(\"data/k_solve.p\", \"wb\"))\n",
    "\n",
    "pickle.dump(wd, open(\"data/w_d.p\", \"wb\"))\n",
    "pickle.dump(Dwd, open(\"data/Dw_d.p\", \"wb\"))\n",
    "pickle.dump(cs2d, open(\"data/cs2_d.p\", \"wb\"))\n",
    "\n",
    "pickle.dump(δd, open(\"data/delta_d.p\", \"wb\"))\n",
    "pickle.dump(vd, open(\"data/v_d.p\", \"wb\"))\n",
    "pickle.dump(δɣ, open(\"data/delta_g.p\", \"wb\"))\n",
    "pickle.dump(vɣ, open(\"data/v_g.p\", \"wb\"))\n",
    "pickle.dump(Φ, open(\"data/phi.p\", \"wb\"))"
   ]
  },
  {
   "cell_type": "code",
   "execution_count": null,
   "metadata": {},
   "outputs": [],
   "source": [
    "# plot some outputs for sanity check\n",
    "plt.plot(τ_solve, δd.T[:, 0::25])\n",
    "plt.show()\n",
    "plt.plot(τ_solve, Φ.T[:, 0::25])\n",
    "plt.show()"
   ]
  },
  {
   "cell_type": "code",
   "execution_count": null,
   "metadata": {},
   "outputs": [],
   "source": []
  },
  {
   "cell_type": "code",
   "execution_count": null,
   "metadata": {},
   "outputs": [],
   "source": []
  }
 ],
 "metadata": {
  "anaconda-cloud": {},
  "kernelspec": {
   "display_name": "Python 3",
   "language": "python",
   "name": "python3"
  },
  "language_info": {
   "codemirror_mode": {
    "name": "ipython",
    "version": 3
   },
   "file_extension": ".py",
   "mimetype": "text/x-python",
   "name": "python",
   "nbconvert_exporter": "python",
   "pygments_lexer": "ipython3",
   "version": "3.7.3"
  }
 },
 "nbformat": 4,
 "nbformat_minor": 2
}
