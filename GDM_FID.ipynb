{
 "cells": [
  {
   "cell_type": "markdown",
   "metadata": {},
   "source": [
    "\n",
    "\n"
   ]
  },
  {
   "cell_type": "markdown",
   "metadata": {},
   "source": [
    "Get fiducial w, cs2, etc."
   ]
  },
  {
   "cell_type": "code",
   "execution_count": 4,
   "metadata": {},
   "outputs": [],
   "source": [
    "import params as par\n",
    "from background import *\n",
    "\n",
    "from scipy import integrate\n",
    "from scipy.interpolate import interp1d\n",
    "import numpy as np\n",
    "import matplotlib.pyplot as plt\n",
    "import copy\n",
    "import pickle\n",
    "plt.rcParams.update(par.plot_params)"
   ]
  },
  {
   "cell_type": "code",
   "execution_count": 5,
   "metadata": {},
   "outputs": [],
   "source": [
    "ℋ = lambda τ: 2*α*(α*τ/τr + 1)/(α**2 * (τ**2/τr) + 2*α*τ)"
   ]
  },
  {
   "cell_type": "code",
   "execution_count": 6,
   "metadata": {},
   "outputs": [],
   "source": [
    "\"\"\"3-Fluid Mode Evolution\"\"\"\n",
    "\n",
    "# First run-through to obtain time steps:\n",
    "τ_solve = np.linspace(par.τ0, τ_rec, 20)\n",
    "k_solve = np.linspace(par.k_low, par.k_high, par.K_SOLVE)\n",
    "\n",
    "for i, k in enumerate(k_solve):\n",
    "    # set initial conditions\n",
    "    Φ0  = 1.0\n",
    "    δɣ0 = -2*Φ0*(1 + 3*y(τ0)/16)\n",
    "    vɣ0 = -k/(ℋ(τ0)) * (δɣ0/4 + (2*k**2 * (1 + y(τ0))*Φ0)/\n",
    "                        (9*(ℋ(τ0))**2 * (4./3. + y(τ0))))\n",
    "    δc0 = .75 * δɣ0\n",
    "    vc0 = vɣ0\n",
    "    δν0 = δɣ0\n",
    "    vν0 = vɣ0\n",
    "    \n",
    "    # solve the ODE\n",
    "    def DY(τ, Y):\n",
    "        [Φ, δɣ, vɣ, δc, vc, δν, vν] = Y\n",
    "        DΦ  = -ℋ(τ)*Φ + (3/2.*H0**2.*a(τ)**2/k)*\\\n",
    "        (4./3.*(Ωɣ(τ)*vɣ + Ων(τ)*vν) + Ωc(τ)*vc + Ωb(τ)*vɣ)\n",
    "        \n",
    "        Dδɣ = -4./3.*k*vɣ + 4*DΦ\n",
    "        Dvɣ = (-ℋ(τ) * yb(τ)*vɣ + k*δɣ/3)/(\n",
    "            4./3. + yb(τ)) + k*Φ\n",
    "        \n",
    "        Dδc = -k*vc + 3*DΦ\n",
    "        Dvc = -ℋ(τ)*vc + k*Φ\n",
    "        \n",
    "        Dδν = -4./3.*k*vν + 4*DΦ\n",
    "        Dvν = k*δν/4 + k*Φ\n",
    "        \n",
    "        return [DΦ, Dδɣ, Dvɣ, Dδc, Dvc, Dδν, Dvν]\n",
    "    Y0 = [Φ0, δɣ0, vɣ0, δc0, vc0, δν0, vν0]\n",
    "    out = integrate.solve_ivp(DY, [τ0, τ_rec], Y0,\n",
    "                 method='RK45', max_step=τ_rec/par.NMIN)\n",
    "    τ_run = out['t']\n",
    "    if (len(τ_run) > len(τ_solve)):\n",
    "        τ_solve = τ_run"
   ]
  },
  {
   "cell_type": "code",
   "execution_count": 7,
   "metadata": {},
   "outputs": [],
   "source": [
    "# Second run-through to actually obtain the mode evolution\n",
    "\n",
    "# initialize arrays\n",
    "N = len(τ_solve)\n",
    "Φ = np.zeros((par.K_SOLVE, N))\n",
    "δɣ = np.zeros((par.K_SOLVE, N))\n",
    "vɣ = np.zeros((par.K_SOLVE, N))\n",
    "δc = np.zeros((par.K_SOLVE, N))\n",
    "vc = np.zeros((par.K_SOLVE, N))\n",
    "δν = np.zeros((par.K_SOLVE, N))\n",
    "vν = np.zeros((par.K_SOLVE, N))\n",
    "\n",
    "\n",
    "for i, k in enumerate(k_solve):\n",
    "    \n",
    "    # set initial conditions\n",
    "    Φ0  = 1.0\n",
    "    δɣ0 = -2*Φ0*(1 + 3*y(τ0)/16)\n",
    "    vɣ0 = -k/(ℋ(τ0)) * (δɣ0/4 + (2*k**2 * (1 + y(τ0))*Φ0)/\n",
    "                        (9*(ℋ(τ0))**2 * (4./3. + y(τ0))))\n",
    "    δc0 = .75 * δɣ0\n",
    "    vc0 = vɣ0\n",
    "    δν0 = δɣ0\n",
    "    vν0 = vɣ0\n",
    "    \n",
    "    # solve the ODE\n",
    "    def DY(τ, Y):\n",
    "        [Φ, δɣ, vɣ, δc, vc, δν, vν] = Y\n",
    "        DΦ  = -ℋ(τ)*Φ + (3/2.*H0**2.*a(τ)**2/k)*\\\n",
    "        (4./3.*(Ωɣ(τ)*vɣ + Ων(τ)*vν) + Ωc(τ)*vc + Ωb(τ)*vɣ)\n",
    "        \n",
    "        Dδɣ = -4./3.*k*vɣ + 4*DΦ\n",
    "        Dvɣ = (-ℋ(τ) * yb(τ)*vɣ + k*δɣ/3)/(\n",
    "            4./3. + yb(τ)) + k*Φ\n",
    "        \n",
    "        Dδc = -k*vc + 3*DΦ\n",
    "        Dvc = -ℋ(τ)*vc + k*Φ\n",
    "        \n",
    "        Dδν = -4./3.*k*vν + 4*DΦ\n",
    "        Dvν = k*δν/4 + k*Φ\n",
    "        \n",
    "        return [DΦ, Dδɣ, Dvɣ, Dδc, Dvc, Dδν, Dvν]\n",
    "    Y0 = [Φ0, δɣ0, vɣ0, δc0, vc0, δν0, vν0]\n",
    "    out = integrate.solve_ivp(DY, [τ0, τ_rec], Y0,\n",
    "        method='RK45',t_eval=τ_solve, max_step=τ_rec/par.NMIN)\n",
    "    sol = out['y']\n",
    "    \n",
    "    Φ[i,:]  = sol[0]\n",
    "    δɣ[i,:] = sol[1]\n",
    "    vɣ[i,:] = sol[2]\n",
    "    δc[i,:] = sol[3]\n",
    "    vc[i,:] = sol[4]\n",
    "    δν[i,:] = sol[5]\n",
    "    vν[i,:] = sol[6]\n",
    "\n",
    "Φ_  = interp1d(τ_solve, Φ,fill_value=\"extrapolate\")\n",
    "δɣ_ = interp1d(τ_solve, δɣ,fill_value=\"extrapolate\")\n",
    "vɣ_ = interp1d(τ_solve, vɣ,fill_value=\"extrapolate\")\n",
    "δc_ = interp1d(τ_solve, δc,fill_value=\"extrapolate\")\n",
    "vc_ = interp1d(τ_solve, vc,fill_value=\"extrapolate\")\n",
    "δν_ = interp1d(τ_solve, δν,fill_value=\"extrapolate\")\n",
    "vν_ = interp1d(τ_solve, vν,fill_value=\"extrapolate\")"
   ]
  },
  {
   "cell_type": "code",
   "execution_count": 8,
   "metadata": {},
   "outputs": [],
   "source": [
    "\"\"\"Extract GDM functions\"\"\"\n",
    "\n",
    "τ = τ_solve\n",
    "wd = Ων(τ)/(3*Ωd(τ))\n",
    "Dwd = np.gradient(wd,τ)\n",
    "δd = (Ωc(τ)*δc + Ων(τ)*δν)/Ωd(τ)\n",
    "vd = (Ωc(τ)*vc + 4/3*Ων(τ)*vν)/((1+wd)*Ωd(τ))\n",
    "cs2d =(δν*Ων(τ)*1/3)/(δd*Ωd(τ)) \n",
    "\n",
    "δd_ = interp1d(τ,δd, fill_value=\"extrapolate\")\n",
    "vd_ = interp1d(τ,vd, fill_value=\"extrapolate\")\n",
    "wd_ = interp1d(τ,wd, fill_value=\"extrapolate\")\n",
    "Dwd_ = interp1d(τ,Dwd, fill_value=\"extrapolate\")\n",
    "cs2d_ = interp1d(τ,cs2d, fill_value=\"extrapolate\")"
   ]
  },
  {
   "cell_type": "code",
   "execution_count": 9,
   "metadata": {},
   "outputs": [],
   "source": [
    "\"\"\"Save Outputs\"\"\"\n",
    "\n",
    "pickle.dump(τ_solve, open( \"data/tau_solve.p\", \"wb\" ) )\n",
    "pickle.dump(k_solve, open( \"data/k_solve.p\", \"wb\" ) )\n",
    "\n",
    "pickle.dump(wd, open( \"data/w_d.p\", \"wb\" ) )\n",
    "pickle.dump(Dwd, open( \"data/Dw_d.p\", \"wb\" ) )\n",
    "pickle.dump(cs2d, open( \"data/cs2_d.p\", \"wb\" ) )\n",
    "\n",
    "pickle.dump(δd, open( \"data/delta_d.p\", \"wb\" ) )\n",
    "pickle.dump(vd, open( \"data/v_d.p\", \"wb\" ) )\n",
    "pickle.dump(δɣ, open( \"data/delta_g.p\", \"wb\" ) )\n",
    "pickle.dump(vɣ, open( \"data/v_g.p\", \"wb\" ) )\n",
    "pickle.dump(Φ, open( \"data/phi.p\", \"wb\" ) )"
   ]
  },
  {
   "cell_type": "code",
   "execution_count": null,
   "metadata": {},
   "outputs": [],
   "source": []
  }
 ],
 "metadata": {
  "anaconda-cloud": {},
  "kernelspec": {
   "display_name": "Python 3",
   "language": "python",
   "name": "python3"
  },
  "language_info": {
   "codemirror_mode": {
    "name": "ipython",
    "version": 3
   },
   "file_extension": ".py",
   "mimetype": "text/x-python",
   "name": "python",
   "nbconvert_exporter": "python",
   "pygments_lexer": "ipython3",
   "version": "3.7.3"
  }
 },
 "nbformat": 4,
 "nbformat_minor": 2
}
