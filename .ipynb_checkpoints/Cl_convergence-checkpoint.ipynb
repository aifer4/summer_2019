{
 "cells": [
  {
   "cell_type": "code",
   "execution_count": 8,
   "metadata": {},
   "outputs": [],
   "source": [
    "import numpy as np\n",
    "import matplotlib.pyplot as plt\n",
    "from scipy import integrate\n",
    "from scipy.interpolate import interp1d\n",
    "from scipy.special import spherical_jn\n",
    "import copy\n",
    "import pickle\n",
    "import numba"
   ]
  },
  {
   "cell_type": "code",
   "execution_count": 3,
   "metadata": {},
   "outputs": [],
   "source": [
    "# load subroutines and plotting settings\n",
    "import params as par\n",
    "import background as bg\n",
    "from background import *\n",
    "plt.rcParams.update(par.plot_params)\n",
    "\n",
    "# Load data from GDM_FID.\n",
    "τ_solve = pickle.load(open( \"data/tau_solve.p\", \"rb\" ) )\n",
    "k_solve = pickle.load(open( \"data/k_solve.p\", \"rb\" ) )\n",
    "\n",
    "wd_F = pickle.load(open( \"data/w_d.p\", \"rb\" ) )\n",
    "Dwd_F = pickle.load(open( \"data/Dw_d.p\", \"rb\" ) )\n",
    "cs2d_F = pickle.load(open( \"data/cs2_d.p\", \"rb\" ) )\n",
    "\n",
    "δd = pickle.load(open( \"data/delta_d.p\", \"rb\" ) )\n",
    "vd = pickle.load(open( \"data/v_d.p\", \"rb\" ) )\n",
    "δɣ = pickle.load(open( \"data/delta_g.p\", \"rb\" ) )\n",
    "vɣ = pickle.load(open( \"data/v_g.p\", \"rb\" ) )\n",
    "Φ = pickle.load(open( \"data/phi.p\", \"rb\" ) )\n",
    "\n",
    "(wd, Dwd, cs2d) =(wd_F, Dwd_F, cs2d_F)"
   ]
  },
  {
   "cell_type": "code",
   "execution_count": 4,
   "metadata": {},
   "outputs": [],
   "source": [
    "@numba.njit()\n",
    "def listint(y, x):\n",
    "    # use trap rule to obtain a cumulative integral.\n",
    "    # first value of output is always zero.\n",
    "    N = len(x)\n",
    "    h = np.diff(x)\n",
    "    \n",
    "    out = np.zeros(N)\n",
    "    out[0] = 0\n",
    "\n",
    "    for i in range(1,N):\n",
    "        T = (y[i-1]+y[i])*h[i-1]/2\n",
    "        out[i] = out[i-1]+T\n",
    "    return out\n",
    "\n",
    "@numba.njit()\n",
    "def rand_orth(N):\n",
    "    r = np.random.randn(N,N)\n",
    "    Q,R = np.linalg.qr(r)\n",
    "    U = np.diag((-1)**np.random.randint(1,3,size=N))*1.0\n",
    "    return Q @ U"
   ]
  },
  {
   "cell_type": "code",
   "execution_count": 5,
   "metadata": {},
   "outputs": [],
   "source": [
    "\"\"\"2 fluid\"\"\"\n",
    "\n",
    "# set initial conditions\n",
    "Φ0  = Φ[:,0] \n",
    "δɣ0 = δɣ[:,0] \n",
    "vɣ0 = vɣ[:,0] \n",
    "δd0 = δd[:,0] \n",
    "vd0 = vd[:,0] \n",
    "\n",
    "Y0 = np.array([Φ0, δɣ0, vɣ0, δd0, vd0])\n",
    "\n",
    "@numba.jit(nopython=True)\n",
    "def DY(τ, Y, wd, Dwd, Ωdi, Hi, ai):\n",
    "        dY = np.zeros((5,K_SOLVE))\n",
    "        Φ = Y[0,:]\n",
    "        δɣ = Y[1,:]\n",
    "        vɣ = Y[2,:]\n",
    "        δd = Y[3,:]\n",
    "        vd = Y[4,:]\n",
    "           \n",
    "        ybi = 1.68*ai*Ωb0/Ωr0\n",
    "\n",
    "        Ωbi = Ωb0 * ai**-3.\n",
    "        Ωɣi = Ωɣ0 * ai**-4.\n",
    "\n",
    "        wdi = np.interp(τ, τ_solve, wd)\n",
    "        Dwdi = np.interp(τ, τ_solve, Dwd)\n",
    "        \n",
    "        #interpolate cs2\n",
    "        idx = np.searchsorted(τ_solve, τ) - 1\n",
    "        d = (τ - τ_solve[idx]) / (τ_solve[idx + 1] - τ_solve[idx])\n",
    "        cs2di = (1 - d) * cs2d[:,idx]   + cs2d[:,idx + 1] * d\n",
    "        \n",
    "        f = vd*Ωdi*(1+wdi) + 4./3.*Ωɣi*vɣ +  Ωbi*vɣ\n",
    "        dY[0,:]  = -ℋi*Φ + (3/2.*H0**2.*ai**2/k_solve)*f\n",
    "        dY[1,:] = -4./3.*k_solve*vɣ + 4*dY[0,:]\n",
    "        dY[2,:] = (-ℋi*ybi*vɣ + k_solve*δɣ/3)/(\n",
    "            4./3. + ybi) + k_solve*Φ\n",
    "        dY[3,:] = -(1+wdi)*(k_solve*vd-3*dY[0,:]) -\\\n",
    "            3*ℋi*(cs2di-wdi)*δd\n",
    "        dY[4,:] = -ℋi*(1-3*wdi)*vd - vd*Dwdi/(1+wdi) +\\\n",
    "            k_solve*δd*cs2di/(1+wdi) + k_solve*Φ\n",
    "        return dY"
   ]
  },
  {
   "cell_type": "code",
   "execution_count": 6,
   "metadata": {},
   "outputs": [],
   "source": [
    "Ωd_τ0 = Ωc(τ0) + Ων(τ0)\n",
    "\n",
    "# compute stepsizes for RK4\n",
    "stepsizes = np.diff(τ_solve)\n",
    "τ_RK = np.interp(np.arange(2*N)/2,range(N), τ_solve)\n",
    "a_list  =  a(τ_solve)\n",
    "a_RK  =  a(τ_RK)\n",
    "    \n",
    "\n",
    "@numba.jit(nopython=True) # (NOTE: re-implement cumtrapz to put these back)\n",
    "def solve(wd, Dwd): \n",
    "    # Update the background:\n",
    "    Ωd_new = Ωd_τ0 * np.exp(-3*listint((1+wd)/a_list,a_list))\n",
    "    H_new =  H0 *np.sqrt(Ωb0*a_list**-3 + Ωɣ0*a_list**-4 + Ωd_new + ΩΛ)*a_list\n",
    "    τ_new =  listint(1/(a_list * H_new), a_list)+τ0\n",
    "    \n",
    "    Ωd_RK = np.interp(τ_RK, τ_new, Ωd_new)\n",
    "    H_RK =  np.interp(τ_RK, τ_new, H_new)\n",
    "    a_RK =  np.interp(τ_RK, τ_new, a_list)\n",
    "    \n",
    "    Y = np.zeros((len(τ_solve), 5, par.K_SOLVE))\n",
    "    Y[0,:,:] = Y0\n",
    "    for i, τi in enumerate(τ_solve[:-1]):\n",
    "        # interpolate the new background quantities:        \n",
    "        ss = stepsizes[i]\n",
    "        k1 = ss*DY(τi,Y[i,:,:], wd, Dwd, Ωd_RK[2*i], H_RK[2*i], a_RK[2*i])\n",
    "        k2 = ss*DY(τi+ss/2,Y[i,:,:]+k1/2, wd, Dwd, Ωd_RK[2*i+1], H_RK[2*i+1], a_RK[2*i+1])\n",
    "        k3 = ss*DY(τi+ss/2,Y[i,:,:]+k2/2, wd, Dwd, Ωd_RK[2*i+1], H_RK[2*i+1], a_RK[2*i+1])\n",
    "        k4 = ss*DY(τi+ss,Y[i,:,:]+k3, wd, Dwd, Ωd_RK[2*i+2], H_RK[2*i+2], a_RK[2*i+2])\n",
    "        \n",
    "        Y[i+1,:,:] = Y[i,:,:] + k1/6 + k2/3 + k3/3 + k4/6\n",
    "    return Y"
   ]
  },
  {
   "cell_type": "code",
   "execution_count": 9,
   "metadata": {},
   "outputs": [],
   "source": [
    "# k and l list for integration\n",
    "k_list2  = np.linspace(k_low,k_high,K_INT)\n",
    "l_list = np.array([i for i in range(2,50,1)]+[i for i in range(50,200,5)] + \n",
    "     [i for i in range(200, 2500, 20)])\n",
    "L = len(l_list)\n",
    "\n",
    "\"\"\"Precompute Bessel Functions\"\"\"\n",
    "# check if they're already stored\n",
    "if 'DJLK' not in globals():\n",
    "    JLK = np.array([\n",
    "        spherical_jn(l, k_list2*(τ_now-τ_rec))\n",
    "                    for l in l_list])\n",
    "    DJLK = np.array([\n",
    "        spherical_jn(l, k_list2*(τ_now-τ_rec), derivative=True) \n",
    "        for l in l_list])\n"
   ]
  },
  {
   "cell_type": "code",
   "execution_count": 14,
   "metadata": {},
   "outputs": [],
   "source": [
    "k_grid = np.broadcast_to(k_list2,(len(l_list),K_INT))\n",
    "@numba.jit(nopython=True)\n",
    "def get_Cl(wd, Dwd, params):\n",
    "    As = params[0]\n",
    "    # first compute mode evolution:\n",
    "    Yf = solve(wd, Dwd)[-1,:,:]\n",
    "    SW = Yf[0,:] + Yf[1,:]/4\n",
    "    ISW = ΔΦ\n",
    "    DOP = Yf[2,:]\n",
    "    \n",
    "    SWsd = (SW+ISW)*np.exp(-(k_solve*τs)**2)\n",
    "    DOPsd = DOP*np.exp(-(k_solve*τs)**2)\n",
    "\n",
    "    \n",
    "    # get the power spectrum\n",
    "    SWfill = np.interp(k_list2, k_solve, SW)\n",
    "    DOPfill = np.interp(k_list2, k_solve, DOP)\n",
    "    Dl = SWfill*JLK + DOPfill*(DJLK-JLK/(2*k_list2*(τ_now-τ_rec)))\n",
    "\n",
    "    T = np.exp(-2*(k_list2*τs)**2 - (.03*k_list2*τ_rec)**2)\n",
    "    Cl_itgd = Dl**2 *T /k_list2\n",
    "    Cl = integrate.trapz(k_grid, Cl_itgd)\n",
    "    norm =  4*np.pi *  As/(k_star**(ns-1)) * TCMB0**2 *(1/3 * τ_rec**2)**2\n",
    "    Cl_normed = l_list*(l_list + 1)*Cl * norm\n",
    "    return np.abs(Cl_normed) "
   ]
  },
  {
   "cell_type": "code",
   "execution_count": null,
   "metadata": {},
   "outputs": [],
   "source": [
    "%timeit Cl = get_Cl(wd_F, Dwd_F, params_F)"
   ]
  },
  {
   "cell_type": "code",
   "execution_count": 13,
   "metadata": {},
   "outputs": [
    {
     "data": {
      "image/png": "[encoded data removed]",
      "text/plain": [
       "<Figure size 936x504 with 1 Axes>"
      ]
     },
     "metadata": {
      "needs_background": "light"
     },
     "output_type": "display_data"
    }
   ],
   "source": [
    "if True:\n",
    "    \"\"\"Compare to Planck 2015\"\"\"\n",
    "    Cl0 = get_Cl(wd_F, Dwd_F,params_F)\n",
    "    plt.plot(l_list, Cl0, zorder=1)\n",
    "    im = plt.imread('img/Cl_planck_30p.PNG')\n",
    "    #plt.imshow(im, extent=[30,2500,0,6000] ,zorder=0,aspect='auto')\n",
    "    plt.xlim(0,l_list[-1])\n",
    "    plt.show()"
   ]
  },
  {
   "cell_type": "code",
   "execution_count": null,
   "metadata": {},
   "outputs": [],
   "source": []
  }
 ],
 "metadata": {
  "kernelspec": {
   "display_name": "Python 3",
   "language": "python",
   "name": "python3"
  },
  "language_info": {
   "codemirror_mode": {
    "name": "ipython",
    "version": 3
   },
   "file_extension": ".py",
   "mimetype": "text/x-python",
   "name": "python",
   "nbconvert_exporter": "python",
   "pygments_lexer": "ipython3",
   "version": "3.7.3"
  }
 },
 "nbformat": 4,
 "nbformat_minor": 2
}
