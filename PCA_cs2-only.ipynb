{
 "cells": [
  {
   "cell_type": "code",
   "execution_count": 1,
   "metadata": {},
   "outputs": [],
   "source": [
    "import params as par\n",
    "from background import *\n",
    "\n",
    "\n",
    "import numba\n",
    "from scipy.special import spherical_jn\n",
    "from scipy import integrate\n",
    "from scipy.interpolate import interp1d\n",
    "import numpy as np\n",
    "import matplotlib.pyplot as plt\n",
    "import copy\n",
    "import pickle\n",
    "from mpl_toolkits import mplot3d\n",
    "plt.rcParams.update(par.plot_params)\n",
    "cp = copy.deepcopy"
   ]
  },
  {
   "cell_type": "code",
   "execution_count": 2,
   "metadata": {},
   "outputs": [],
   "source": [
    "# Load data from GDM_FID.\n",
    "\n",
    "τ_solve = pickle.load(open(\"data/tau_solve.p\", \"rb\"))\n",
    "k_solve = pickle.load(open(\"data/k_solve.p\", \"rb\"))\n",
    "\n",
    "wd_F = pickle.load(open(\"data/w_d.p\", \"rb\"))\n",
    "Dwd_F = pickle.load(open(\"data/Dw_d.p\", \"rb\"))\n",
    "cs2d_F = pickle.load(open(\"data/cs2_d.p\", \"rb\"))\n",
    "\n",
    "δd = pickle.load(open(\"data/delta_d.p\", \"rb\"))\n",
    "vd = pickle.load(open(\"data/v_d.p\", \"rb\"))\n",
    "δɣ = pickle.load(open(\"data/delta_g.p\", \"rb\"))\n",
    "vɣ = pickle.load(open(\"data/v_g.p\", \"rb\"))\n",
    "Φ = pickle.load(open(\"data/phi.p\", \"rb\"))\n",
    "\n",
    "\n",
    "(wd, Dwd, cs2d) = (wd_F, Dwd_F, cs2d_F)\n",
    "\n",
    "N = len(τ_solve)"
   ]
  },
  {
   "cell_type": "code",
   "execution_count": 3,
   "metadata": {},
   "outputs": [],
   "source": [
    "\"\"\"2 fluid\"\"\"\n",
    "\n",
    "# set initial conditions\n",
    "Φ0 = Φ[:, 0]\n",
    "δɣ0 = δɣ[:, 0]\n",
    "vɣ0 = vɣ[:, 0]\n",
    "δd0 = δd[:, 0]\n",
    "vd0 = vd[:, 0]\n",
    "\n",
    "Y0 = np.array([Φ0, δɣ0, vɣ0, δd0, vd0])\n",
    "\n",
    "# @numba.jit(nopython=True)\n",
    "\n",
    "\n",
    "def DY(τ, Y, wd, Dwd, cs2d, Ωd_, H_, a_):\n",
    "    dY = np.zeros((5, K_SOLVE))\n",
    "    Φ = Y[0, :]\n",
    "    δɣ = Y[1, :]\n",
    "    vɣ = Y[2, :]\n",
    "    δd = Y[3, :]\n",
    "    vd = Y[4, :]\n",
    "\n",
    "    # compute background quantities\n",
    "    ℋi = 2*α*(α*τ/τr + 1)/(α**2 * (τ**2/τr) + 2*α*τ)\n",
    "    ai = a(τ)\n",
    "    Ωdi = Ωc0 * ai**-3. + Ων0 * ai**-4.\n",
    "    ℋi = H_(τ)\n",
    "    ai = a_(τ)\n",
    "    Ωdi = Ωd_(τ)\n",
    "    ybi = 1.68*ai*Ωb0/Ωr0\n",
    "\n",
    "    Ωbi = Ωb0 * ai**-3.\n",
    "    Ωɣi = Ωɣ0 * ai**-4.\n",
    "\n",
    "    wdi = np.interp(τ, τ_solve, wd)\n",
    "    Dwdi = np.interp(τ, τ_solve, Dwd)\n",
    "\n",
    "    # interpolate cs2\n",
    "    idx = np.searchsorted(τ_solve, τ) - 1\n",
    "    d = (τ - τ_solve[idx]) / (τ_solve[idx + 1] - τ_solve[idx])\n",
    "    cs2di = (1 - d) * cs2d[:, idx] + cs2d[:, idx + 1] * d\n",
    "\n",
    "    f = vd*Ωdi*(1+wdi) + 4./3.*Ωɣi*vɣ + Ωbi*vɣ\n",
    "    dY[0, :] = -ℋi*Φ + (3/2.*H0**2.*ai**2/k_solve)*f\n",
    "    dY[1, :] = -4./3.*k_solve*vɣ + 4*dY[0, :]\n",
    "    dY[2, :] = (-ℋi*ybi*vɣ + k_solve*δɣ/3)/(\n",
    "        4./3. + ybi) + k_solve*Φ\n",
    "    dY[3, :] = -(1+wdi)*(k_solve*vd-3*dY[0, :]) -\\\n",
    "        3*ℋi*(cs2di-wdi)*δd\n",
    "    dY[4, :] = -ℋi*(1-3*wdi)*vd - vd*Dwdi/(1+wdi) +\\\n",
    "        k_solve*δd*cs2di/(1+wdi) + k_solve*Φ\n",
    "    return dY"
   ]
  },
  {
   "cell_type": "code",
   "execution_count": 4,
   "metadata": {},
   "outputs": [],
   "source": [
    "# compute stepsizes for RK4\n",
    "stepsizes = np.diff(τ_solve)\n",
    "a_list = a_eq*((α*τ_solve/τr)**2 + 2*α*τ_solve/τr)\n",
    "Ωd_τ0 = Ωc(τ0)+Ων(τ0)\n",
    "a_list = a(τ_solve)\n",
    "\n",
    "\n",
    "# implement RK4\n",
    "# @numba.jit(nopython=True) # (NOTE: re-implement cumtrapz to put these back)\n",
    "def solve(wd, Dwd, cs2d):\n",
    "    # Update the background:\n",
    "    Ωd_a = Ωd_τ0 * np.exp(-3 *\n",
    "                          integrate.cumtrapz((1+wd)/a_list, a_list, initial=0)\n",
    "                          )\n",
    "    H_a = H0 * np.sqrt(Ωb0*a_list**-3 + Ωɣ0*a_list**-4 + Ωd_a + ΩΛ)*a_list\n",
    "    τ_a = integrate.cumtrapz(1/(a_list * H_a), a_list, initial=0)+τ0\n",
    "    a_ = interp1d(τ_a, a_list, kind='quadratic', fill_value='extrapolate')\n",
    "    H_ = interp1d(τ_a, H_a, kind='quadratic', fill_value='extrapolate')\n",
    "    Ωd_ = interp1d(τ_a, Ωd_a, kind='quadratic', fill_value='extrapolate')\n",
    "\n",
    "    Y = np.zeros((len(τ_solve), 5, par.K_SOLVE))\n",
    "    Y[0, :, :] = Y0\n",
    "    for i, τi in enumerate(τ_solve[:-1]):\n",
    "        ss = stepsizes[i]\n",
    "        k1 = ss*DY(τi, Y[i, :, :], wd, Dwd, cs2d, Ωd_, H_, a_)\n",
    "        k2 = ss*DY(τi+ss/2, Y[i, :, :]+k1/2, wd, Dwd, cs2d, Ωd_, H_, a_)\n",
    "        k3 = ss*DY(τi+ss/2, Y[i, :, :]+k2/2, wd, Dwd, cs2d, Ωd_, H_, a_)\n",
    "        k4 = ss*DY(τi+ss, Y[i, :, :]+k3, wd, Dwd, cs2d, Ωd_, H_, a_)\n",
    "\n",
    "        Y[i+1, :, :] = Y[i, :, :] + k1/6 + k2/3 + k3/3 + k4/6\n",
    "    return Y"
   ]
  },
  {
   "cell_type": "code",
   "execution_count": 5,
   "metadata": {},
   "outputs": [],
   "source": [
    "# k and l list for integration\n",
    "k_list2 = np.linspace(k_low, k_high, K_INT)\n",
    "l_list = np.array([i for i in range(2, 50, 1)]+[i for i in range(50, 200, 5)] +\n",
    "                  [i for i in range(200, 2500, 20)])\n",
    "L = len(l_list)\n",
    "\n",
    "\"\"\"Precompute Bessel Functions\"\"\"\n",
    "# check if they're already stored\n",
    "if 'DJLK' not in globals():\n",
    "    JLK = np.array([\n",
    "        spherical_jn(l, k_list2*(τ_now-τ_rec))\n",
    "        for l in l_list])\n",
    "    DJLK = np.array([\n",
    "        spherical_jn(l, k_list2*(τ_now-τ_rec), derivative=True)\n",
    "        for l in l_list])"
   ]
  },
  {
   "cell_type": "code",
   "execution_count": 6,
   "metadata": {},
   "outputs": [],
   "source": [
    "k_grid = np.broadcast_to(k_list2, (len(l_list), K_INT))\n",
    "τ0_Mpc = 2.3e4*τ0\n",
    "\n",
    "\n",
    "# @numba.jit(nopython=True)\n",
    "def get_Cl(wd, Dwd, cs2d, params):\n",
    "    As = params[0]\n",
    "    # first compute mode evolution:\n",
    "    Yf = solve(wd, Dwd, cs2d)[-1, :, :]\n",
    "    SW = Yf[0, :] + Yf[1, :]/4\n",
    "    ISW = ΔΦ\n",
    "    DOP = Yf[2, :]\n",
    "\n",
    "    SWsd = (SW+ISW)*np.exp(-(k_solve*τs)**2)\n",
    "    DOPsd = DOP*np.exp(-(k_solve*τs)**2)\n",
    "\n",
    "    # get the power spectrum\n",
    "    SWfill = np.interp(k_list2, k_solve, SW)\n",
    "    DOPfill = np.interp(k_list2, k_solve, DOP)\n",
    "    Dl = SWfill*JLK + DOPfill*(DJLK-JLK/(2*k_list2*(τ_now-τ_rec)))\n",
    "\n",
    "    T = np.exp(-2*(k_list2*τs)**2 - (.03*k_list2*τ_rec)**2)\n",
    "    Cl_itgd = Dl**2 * T / k_list2\n",
    "    Cl = integrate.trapz(k_grid, Cl_itgd)\n",
    "    norm = 4*np.pi * As * TCMB0**2\n",
    "    Cl_normed = l_list*(l_list + 1)*Cl * norm/(2*np.pi)\n",
    "    return np.abs(Cl_normed)"
   ]
  },
  {
   "cell_type": "code",
   "execution_count": 7,
   "metadata": {},
   "outputs": [
    {
     "data": {
      "image/png": "[encoded data removed]",
      "text/plain": [
       "<Figure size 432x288 with 1 Axes>"
      ]
     },
     "metadata": {
      "needs_background": "light"
     },
     "output_type": "display_data"
    }
   ],
   "source": [
    "params_F = [As]\n",
    "if True:\n",
    "    \"\"\"Compare to Planck 2015\"\"\"\n",
    "    Cl0 = get_Cl(wd_F, Dwd_F, cs2d_F, params_F)\n",
    "    plt.plot(l_list, Cl0, zorder=1)\n",
    "    im = plt.imread('img/Cl_planck_30p.PNG')\n",
    "    plt.imshow(im, extent=[30, 2500, 0, 6000], zorder=0, aspect='auto')\n",
    "    plt.xlim(0, l_list[-1])\n",
    "    plt.show()"
   ]
  },
  {
   "cell_type": "code",
   "execution_count": 8,
   "metadata": {},
   "outputs": [
    {
     "data": {
      "image/png": "[encoded data removed]",
      "text/plain": [
       "<Figure size 432x288 with 1 Axes>"
      ]
     },
     "metadata": {
      "needs_background": "light"
     },
     "output_type": "display_data"
    }
   ],
   "source": [
    "# Error:\n",
    "f_sky = 1.0  # fraction of sky\n",
    "l_s = 500.  # filtering scale\n",
    "theta_pix = 0.0012  # rad\n",
    "sigma_pix = 16.e-6\n",
    "wbar = 1/(0.33e-15)\n",
    "B_cl = np.exp(-l_list*(l_list + 1)/l_s**2)\n",
    "\n",
    "ΔCl2 = (2/((2*l_list+1)*f_sky)) * (Cl0 + wbar**(-1) * B_cl**-2)**2\n",
    "ΔCl2 = (2/((2*l_list+1)*f_sky)) * (4000 + wbar**(-1) * B_cl**-2)**2\n",
    "Sigma = np.diag(ΔCl2)\n",
    "\n",
    "plt.plot(l_list, np.sqrt(ΔCl2))\n",
    "plt.title(r'diag($\\Sigma$)')\n",
    "plt.xlabel(r'$\\ell$')\n",
    "plt.ylabel(r'$\\Delta C_\\ell$')\n",
    "plt.ylim(0, 500)\n",
    "plt.show()"
   ]
  },
  {
   "cell_type": "code",
   "execution_count": 9,
   "metadata": {},
   "outputs": [
    {
     "name": "stdout",
     "output_type": "stream",
     "text": [
      "(4096,) (256,)\n"
     ]
    },
    {
     "data": {
      "image/png": "[encoded data removed]",
      "text/plain": [
       "<Figure size 432x288 with 1 Axes>"
      ]
     },
     "metadata": {
      "needs_background": "light"
     },
     "output_type": "display_data"
    },
    {
     "name": "stdout",
     "output_type": "stream",
     "text": [
      "[  8 128]\n"
     ]
    }
   ],
   "source": [
    "(K,N) = np.shape(cs2d_F)\n",
    "(NCk,NCx) = (32,32)\n",
    "NC = NCk * NCx\n",
    "B = np.zeros((NCk,NCx,K,N))\n",
    "k,n = np.mgrid[0:K,0:N]\n",
    "wk,wx = K//NCk, N//NCx\n",
    "for i in range(NCk):\n",
    "    for j in range(NCx):\n",
    "        B[i,j,wk*i:wk*(i+1),wx*j:wx*(j+1)]=1\n",
    "        \n",
    "# plot the basis functions:\n",
    "Bplt = np.zeros((K,N))\n",
    "idx = 0\n",
    "for i in range(0,NCk,2):\n",
    "    for j in range(0,NCx,2):\n",
    "        Bplt += B[i,j]\n",
    "        x,y = np.transpose(np.nonzero(B[i,j]))[0]\n",
    "        #print(x,y)\n",
    "        #plt.text(x,y+10,str(idx))\n",
    "        idx+=2\n",
    "\n",
    "#plt.imshow(Bplt,extent=[0,K,0,N],aspect='auto',origin='lower')\n",
    "#plt.pcolormesh([τ_solve,k_solve],Bplt)\n",
    "print(np.shape(τ_solve),np.shape(k_solve))\n",
    "plt.pcolormesh(τ_solve,k_solve,Bplt)\n",
    "plt.loglog()\n",
    "\n",
    "plt.title('sound speed basis functions (every other)')\n",
    "plt.xlabel(r'log $H_0 \\tau$')\n",
    "plt.ylabel(r'$k$')\n",
    "plt.show()\n",
    "print(np.transpose(np.nonzero(B[1,1]))[0])\n",
    "# flatten the basis functions:\n",
    "B_flt = B.reshape(NCk*NCx, K,N)"
   ]
  },
  {
   "cell_type": "code",
   "execution_count": 14,
   "metadata": {},
   "outputs": [
    {
     "ename": "NameError",
     "evalue": "name 'B_flt' is not defined",
     "output_type": "error",
     "traceback": [
      "\u001b[1;31m---------------------------------------------------------------------------\u001b[0m",
      "\u001b[1;31mNameError\u001b[0m                                 Traceback (most recent call last)",
      "\u001b[1;32m<ipython-input-14-694ebf6a5aeb>\u001b[0m in \u001b[0;36m<module>\u001b[1;34m\u001b[0m\n\u001b[0;32m      1\u001b[0m \u001b[0mplt\u001b[0m\u001b[1;33m.\u001b[0m\u001b[0mimshow\u001b[0m\u001b[1;33m(\u001b[0m\u001b[0mcs2d_F\u001b[0m\u001b[1;33m,\u001b[0m\u001b[0maspect\u001b[0m\u001b[1;33m=\u001b[0m\u001b[1;34m'auto'\u001b[0m\u001b[1;33m)\u001b[0m\u001b[1;33m\u001b[0m\u001b[1;33m\u001b[0m\u001b[0m\n\u001b[1;32m----> 2\u001b[1;33m \u001b[0mcs2d\u001b[0m \u001b[1;33m=\u001b[0m \u001b[0mcs2d_F\u001b[0m \u001b[1;33m+\u001b[0m \u001b[0mB_flt\u001b[0m\u001b[1;33m[\u001b[0m\u001b[1;36m20\u001b[0m\u001b[1;33m]\u001b[0m\u001b[1;33m\u001b[0m\u001b[1;33m\u001b[0m\u001b[0m\n\u001b[0m\u001b[0;32m      3\u001b[0m \u001b[0mplt\u001b[0m\u001b[1;33m.\u001b[0m\u001b[0mcolorbar\u001b[0m\u001b[1;33m(\u001b[0m\u001b[1;33m)\u001b[0m\u001b[1;33m\u001b[0m\u001b[1;33m\u001b[0m\u001b[0m\n",
      "\u001b[1;31mNameError\u001b[0m: name 'B_flt' is not defined"
     ]
    },
    {
     "data": {
      "image/png": "[encoded data removed]",
      "text/plain": [
       "<Figure size 432x288 with 1 Axes>"
      ]
     },
     "metadata": {
      "needs_background": "light"
     },
     "output_type": "display_data"
    }
   ],
   "source": [
    "plt.imshow(cs2d_F,aspect='auto')\n",
    "cs2d = cs2d_F + B_flt[20]\n",
    "plt.colorbar()"
   ]
  },
  {
   "cell_type": "code",
   "execution_count": 10,
   "metadata": {},
   "outputs": [
    {
     "name": "stdout",
     "output_type": "stream",
     "text": [
      "0 of 1024\n",
      "5 of 1024\n",
      "10 of 1024\n"
     ]
    },
    {
     "ename": "KeyboardInterrupt",
     "evalue": "",
     "output_type": "error",
     "traceback": [
      "\u001b[1;31m---------------------------------------------------------------------------\u001b[0m",
      "\u001b[1;31mKeyboardInterrupt\u001b[0m                         Traceback (most recent call last)",
      "\u001b[1;32m<ipython-input-10-fea4aba84c17>\u001b[0m in \u001b[0;36m<module>\u001b[1;34m\u001b[0m\n\u001b[0;32m      3\u001b[0m \u001b[1;32mfor\u001b[0m \u001b[0mn\u001b[0m \u001b[1;32min\u001b[0m \u001b[0mrange\u001b[0m\u001b[1;33m(\u001b[0m\u001b[0mNC\u001b[0m\u001b[1;33m)\u001b[0m\u001b[1;33m:\u001b[0m\u001b[1;33m\u001b[0m\u001b[1;33m\u001b[0m\u001b[0m\n\u001b[0;32m      4\u001b[0m     \u001b[0mΔcs2d\u001b[0m \u001b[1;33m=\u001b[0m \u001b[0mB_flt\u001b[0m\u001b[1;33m[\u001b[0m\u001b[0mn\u001b[0m\u001b[1;33m]\u001b[0m\u001b[1;33m*\u001b[0m\u001b[0mss\u001b[0m\u001b[1;33m\u001b[0m\u001b[1;33m\u001b[0m\u001b[0m\n\u001b[1;32m----> 5\u001b[1;33m     \u001b[0mCl_fwd\u001b[0m \u001b[1;33m=\u001b[0m \u001b[0mget_Cl\u001b[0m\u001b[1;33m(\u001b[0m\u001b[0mwd_F\u001b[0m\u001b[1;33m,\u001b[0m \u001b[0mDwd_F\u001b[0m\u001b[1;33m,\u001b[0m \u001b[0mcs2d\u001b[0m \u001b[1;33m+\u001b[0m \u001b[0mΔcs2d\u001b[0m\u001b[1;33m,\u001b[0m \u001b[0mparams_F\u001b[0m\u001b[1;33m)\u001b[0m\u001b[1;33m\u001b[0m\u001b[1;33m\u001b[0m\u001b[0m\n\u001b[0m\u001b[0;32m      6\u001b[0m     \u001b[0mCl_bwd\u001b[0m \u001b[1;33m=\u001b[0m \u001b[0mget_Cl\u001b[0m\u001b[1;33m(\u001b[0m\u001b[0mwd_F\u001b[0m\u001b[1;33m,\u001b[0m \u001b[0mDwd_F\u001b[0m\u001b[1;33m,\u001b[0m \u001b[0mcs2d\u001b[0m \u001b[1;33m-\u001b[0m \u001b[0mΔcs2d\u001b[0m\u001b[1;33m,\u001b[0m \u001b[0mparams_F\u001b[0m\u001b[1;33m)\u001b[0m\u001b[1;33m\u001b[0m\u001b[1;33m\u001b[0m\u001b[0m\n\u001b[0;32m      7\u001b[0m     \u001b[0mJ\u001b[0m\u001b[1;33m[\u001b[0m\u001b[1;33m:\u001b[0m\u001b[1;33m,\u001b[0m \u001b[0mn\u001b[0m\u001b[1;33m]\u001b[0m \u001b[1;33m=\u001b[0m \u001b[1;33m(\u001b[0m\u001b[0mCl_fwd\u001b[0m \u001b[1;33m-\u001b[0m \u001b[0mCl_bwd\u001b[0m\u001b[1;33m)\u001b[0m\u001b[1;33m/\u001b[0m\u001b[1;33m(\u001b[0m\u001b[1;36m2.\u001b[0m\u001b[1;33m*\u001b[0m\u001b[0mss\u001b[0m\u001b[1;33m)\u001b[0m\u001b[1;33m\u001b[0m\u001b[1;33m\u001b[0m\u001b[0m\n",
      "\u001b[1;32m<ipython-input-6-7b2644541f79>\u001b[0m in \u001b[0;36mget_Cl\u001b[1;34m(wd, Dwd, cs2d, params)\u001b[0m\n\u001b[0;32m      7\u001b[0m     \u001b[0mAs\u001b[0m \u001b[1;33m=\u001b[0m \u001b[0mparams\u001b[0m\u001b[1;33m[\u001b[0m\u001b[1;36m0\u001b[0m\u001b[1;33m]\u001b[0m\u001b[1;33m\u001b[0m\u001b[1;33m\u001b[0m\u001b[0m\n\u001b[0;32m      8\u001b[0m     \u001b[1;31m# first compute mode evolution:\u001b[0m\u001b[1;33m\u001b[0m\u001b[1;33m\u001b[0m\u001b[1;33m\u001b[0m\u001b[0m\n\u001b[1;32m----> 9\u001b[1;33m     \u001b[0mYf\u001b[0m \u001b[1;33m=\u001b[0m \u001b[0msolve\u001b[0m\u001b[1;33m(\u001b[0m\u001b[0mwd\u001b[0m\u001b[1;33m,\u001b[0m \u001b[0mDwd\u001b[0m\u001b[1;33m,\u001b[0m \u001b[0mcs2d\u001b[0m\u001b[1;33m)\u001b[0m\u001b[1;33m[\u001b[0m\u001b[1;33m-\u001b[0m\u001b[1;36m1\u001b[0m\u001b[1;33m,\u001b[0m \u001b[1;33m:\u001b[0m\u001b[1;33m,\u001b[0m \u001b[1;33m:\u001b[0m\u001b[1;33m]\u001b[0m\u001b[1;33m\u001b[0m\u001b[1;33m\u001b[0m\u001b[0m\n\u001b[0m\u001b[0;32m     10\u001b[0m     \u001b[0mSW\u001b[0m \u001b[1;33m=\u001b[0m \u001b[0mYf\u001b[0m\u001b[1;33m[\u001b[0m\u001b[1;36m0\u001b[0m\u001b[1;33m,\u001b[0m \u001b[1;33m:\u001b[0m\u001b[1;33m]\u001b[0m \u001b[1;33m+\u001b[0m \u001b[0mYf\u001b[0m\u001b[1;33m[\u001b[0m\u001b[1;36m1\u001b[0m\u001b[1;33m,\u001b[0m \u001b[1;33m:\u001b[0m\u001b[1;33m]\u001b[0m\u001b[1;33m/\u001b[0m\u001b[1;36m4\u001b[0m\u001b[1;33m\u001b[0m\u001b[1;33m\u001b[0m\u001b[0m\n\u001b[0;32m     11\u001b[0m     \u001b[0mISW\u001b[0m \u001b[1;33m=\u001b[0m \u001b[0mΔΦ\u001b[0m\u001b[1;33m\u001b[0m\u001b[1;33m\u001b[0m\u001b[0m\n",
      "\u001b[1;32m<ipython-input-4-5a6cf5c61dd9>\u001b[0m in \u001b[0;36msolve\u001b[1;34m(wd, Dwd, cs2d)\u001b[0m\n\u001b[0;32m     26\u001b[0m         \u001b[0mk2\u001b[0m \u001b[1;33m=\u001b[0m \u001b[0mss\u001b[0m\u001b[1;33m*\u001b[0m\u001b[0mDY\u001b[0m\u001b[1;33m(\u001b[0m\u001b[0mτi\u001b[0m\u001b[1;33m+\u001b[0m\u001b[0mss\u001b[0m\u001b[1;33m/\u001b[0m\u001b[1;36m2\u001b[0m\u001b[1;33m,\u001b[0m \u001b[0mY\u001b[0m\u001b[1;33m[\u001b[0m\u001b[0mi\u001b[0m\u001b[1;33m,\u001b[0m \u001b[1;33m:\u001b[0m\u001b[1;33m,\u001b[0m \u001b[1;33m:\u001b[0m\u001b[1;33m]\u001b[0m\u001b[1;33m+\u001b[0m\u001b[0mk1\u001b[0m\u001b[1;33m/\u001b[0m\u001b[1;36m2\u001b[0m\u001b[1;33m,\u001b[0m \u001b[0mwd\u001b[0m\u001b[1;33m,\u001b[0m \u001b[0mDwd\u001b[0m\u001b[1;33m,\u001b[0m \u001b[0mcs2d\u001b[0m\u001b[1;33m,\u001b[0m \u001b[0mΩd_\u001b[0m\u001b[1;33m,\u001b[0m \u001b[0mH_\u001b[0m\u001b[1;33m,\u001b[0m \u001b[0ma_\u001b[0m\u001b[1;33m)\u001b[0m\u001b[1;33m\u001b[0m\u001b[1;33m\u001b[0m\u001b[0m\n\u001b[0;32m     27\u001b[0m         \u001b[0mk3\u001b[0m \u001b[1;33m=\u001b[0m \u001b[0mss\u001b[0m\u001b[1;33m*\u001b[0m\u001b[0mDY\u001b[0m\u001b[1;33m(\u001b[0m\u001b[0mτi\u001b[0m\u001b[1;33m+\u001b[0m\u001b[0mss\u001b[0m\u001b[1;33m/\u001b[0m\u001b[1;36m2\u001b[0m\u001b[1;33m,\u001b[0m \u001b[0mY\u001b[0m\u001b[1;33m[\u001b[0m\u001b[0mi\u001b[0m\u001b[1;33m,\u001b[0m \u001b[1;33m:\u001b[0m\u001b[1;33m,\u001b[0m \u001b[1;33m:\u001b[0m\u001b[1;33m]\u001b[0m\u001b[1;33m+\u001b[0m\u001b[0mk2\u001b[0m\u001b[1;33m/\u001b[0m\u001b[1;36m2\u001b[0m\u001b[1;33m,\u001b[0m \u001b[0mwd\u001b[0m\u001b[1;33m,\u001b[0m \u001b[0mDwd\u001b[0m\u001b[1;33m,\u001b[0m \u001b[0mcs2d\u001b[0m\u001b[1;33m,\u001b[0m \u001b[0mΩd_\u001b[0m\u001b[1;33m,\u001b[0m \u001b[0mH_\u001b[0m\u001b[1;33m,\u001b[0m \u001b[0ma_\u001b[0m\u001b[1;33m)\u001b[0m\u001b[1;33m\u001b[0m\u001b[1;33m\u001b[0m\u001b[0m\n\u001b[1;32m---> 28\u001b[1;33m         \u001b[0mk4\u001b[0m \u001b[1;33m=\u001b[0m \u001b[0mss\u001b[0m\u001b[1;33m*\u001b[0m\u001b[0mDY\u001b[0m\u001b[1;33m(\u001b[0m\u001b[0mτi\u001b[0m\u001b[1;33m+\u001b[0m\u001b[0mss\u001b[0m\u001b[1;33m,\u001b[0m \u001b[0mY\u001b[0m\u001b[1;33m[\u001b[0m\u001b[0mi\u001b[0m\u001b[1;33m,\u001b[0m \u001b[1;33m:\u001b[0m\u001b[1;33m,\u001b[0m \u001b[1;33m:\u001b[0m\u001b[1;33m]\u001b[0m\u001b[1;33m+\u001b[0m\u001b[0mk3\u001b[0m\u001b[1;33m,\u001b[0m \u001b[0mwd\u001b[0m\u001b[1;33m,\u001b[0m \u001b[0mDwd\u001b[0m\u001b[1;33m,\u001b[0m \u001b[0mcs2d\u001b[0m\u001b[1;33m,\u001b[0m \u001b[0mΩd_\u001b[0m\u001b[1;33m,\u001b[0m \u001b[0mH_\u001b[0m\u001b[1;33m,\u001b[0m \u001b[0ma_\u001b[0m\u001b[1;33m)\u001b[0m\u001b[1;33m\u001b[0m\u001b[1;33m\u001b[0m\u001b[0m\n\u001b[0m\u001b[0;32m     29\u001b[0m \u001b[1;33m\u001b[0m\u001b[0m\n\u001b[0;32m     30\u001b[0m         \u001b[0mY\u001b[0m\u001b[1;33m[\u001b[0m\u001b[0mi\u001b[0m\u001b[1;33m+\u001b[0m\u001b[1;36m1\u001b[0m\u001b[1;33m,\u001b[0m \u001b[1;33m:\u001b[0m\u001b[1;33m,\u001b[0m \u001b[1;33m:\u001b[0m\u001b[1;33m]\u001b[0m \u001b[1;33m=\u001b[0m \u001b[0mY\u001b[0m\u001b[1;33m[\u001b[0m\u001b[0mi\u001b[0m\u001b[1;33m,\u001b[0m \u001b[1;33m:\u001b[0m\u001b[1;33m,\u001b[0m \u001b[1;33m:\u001b[0m\u001b[1;33m]\u001b[0m \u001b[1;33m+\u001b[0m \u001b[0mk1\u001b[0m\u001b[1;33m/\u001b[0m\u001b[1;36m6\u001b[0m \u001b[1;33m+\u001b[0m \u001b[0mk2\u001b[0m\u001b[1;33m/\u001b[0m\u001b[1;36m3\u001b[0m \u001b[1;33m+\u001b[0m \u001b[0mk3\u001b[0m\u001b[1;33m/\u001b[0m\u001b[1;36m3\u001b[0m \u001b[1;33m+\u001b[0m \u001b[0mk4\u001b[0m\u001b[1;33m/\u001b[0m\u001b[1;36m6\u001b[0m\u001b[1;33m\u001b[0m\u001b[1;33m\u001b[0m\u001b[0m\n",
      "\u001b[1;31mKeyboardInterrupt\u001b[0m: "
     ]
    }
   ],
   "source": [
    "ss = 0.0001\n",
    "J = np.zeros((L, NC))\n",
    "for n in range(NC):\n",
    "    Δcs2d = B_flt[n]*ss\n",
    "    Cl_fwd = get_Cl(wd_F, Dwd_F, cs2d + Δcs2d, params_F)\n",
    "    Cl_bwd = get_Cl(wd_F, Dwd_F, cs2d - Δcs2d, params_F)\n",
    "    J[:, n] = (Cl_fwd - Cl_bwd)/(2.*ss)\n",
    "    if(n % 5 == 0):\n",
    "        print(str(n) +' of '+str(NC))"
   ]
  },
  {
   "cell_type": "code",
   "execution_count": null,
   "metadata": {},
   "outputs": [],
   "source": [
    "J = pickle.load(open(\"data/cs2_1024.p\", \"rb\"))\n",
    "F = J.T @ Sigma @ J\n",
    "u, s, v = np.linalg.svd(F)\n",
    "PV = np.real(u)  # principal vectors\n",
    "\"\"\"\n",
    "print(np.shape(PV),np.shape(B_flt))\n",
    "PC = np.zeros((NC, K, N))\n",
    "for i in range(NC):\n",
    "    PC[i] = np.sum(PV[i])\n",
    "    \n",
    "PC = np.einsum('ijk,il', B_flt, PV)\n",
    "print(np.shape(PC))\n",
    "\"\"\"\n",
    "\"\"\"\n",
    "plt.pcolormesh(τ_solve,k_solve,-PC[:,:,3])\n",
    "#plt.semilogx()\n",
    "plt.title('sound speed PC 4')\n",
    "plt.xlabel(r'log $H_0 \\tau$')\n",
    "plt.ylabel(r'$k$')\n",
    "plt.colorbar()\n",
    "plt.show()\n",
    "\"\"\"\n",
    "PC = np.reshape(PV[1], (32,32))\n",
    "print(np.shape(PC))\n",
    "plt.imshow(np.log(abs(PC)))\n",
    "#plt.show()"
   ]
  },
  {
   "cell_type": "code",
   "execution_count": null,
   "metadata": {},
   "outputs": [],
   "source": [
    "\"\"\"cs2-only PCA\"\"\"\n",
    "from numpy import sin, cos, pi\n",
    "\n",
    "\n",
    "\n",
    "def pca(t, basis_type, N_C):\n",
    "\n",
    "    # set derivative stepsize\n",
    "    ss = 1*10**(1-t)\n",
    "\n",
    "    # filenames:\n",
    "    Bname = basis_type+\"-\"+str(N_C)\n",
    "    Jname = \"cs2_J_t\"+\"-\"+str(t)+\"_\"+Bname\n",
    "    PCname = \"cs2_PC_t\"+\"-\"+str(t)+\"_\"+Bname\n",
    "    SVname = \"cs2_SV_t\"+\"-\"+str(t)+\"_\"+Bname\n",
    "\n",
    "\n",
    "    print('computing partials:')\n",
    "    J = np.zeros((L, N_C))\n",
    "    for n in range(N_C):\n",
    "        Δcs2d = B_flt[n]*ss\n",
    "        Cl_fwd = get_Cl(wd_F, Dwd_F, cs2d + Δcs2d, params_F)\n",
    "        Cl_bwd = get_Cl(wd_F, Dwd_F, cs2d - Δcs2d, params_F)\n",
    "        J[:, n] = (Cl_fwd - Cl_bwd)/(2.*ss)\n",
    "        if(n % 5 == 0):\n",
    "            print(str(n) + ' of ' + str(N_C))\n",
    "\n",
    "    # save the partials matrix and the basis matrix\n",
    "    pickle.dump(J, open(\"data/\"+Jname+\".p\", \"wb\"))\n",
    "    pickle.dump(B, open(\"data/\"+Bname+\".p\", \"wb\"))\n",
    "\n",
    "    print('Partials saved. Computing PCs')\n",
    "    try:\n",
    "        # get PCs\n",
    "        F = np.transpose(J)@np.linalg.inv(Sigma)@J\n",
    "        u, s, v = np.linalg.svd(F)\n",
    "        D, V = np.linalg.eig(F)\n",
    "        PV = np.real(u)  # principal vectors\n",
    "        PC = B@PV\n",
    "\n",
    "        # flip and normalize the PCs\n",
    "        for i in range(N_C):\n",
    "            loc = np.argmax(np.abs(PC[:, i]))\n",
    "            PC[:, i] *= np.sign(PC[loc, i])\n",
    "            PC[:, i] /= np.linalg.norm(PC[:, i])\n",
    "\n",
    "        pickle.dump(s, open(\"data/\"+SVname+\".p\", \"wb\"))\n",
    "        pickle.dump(PC, open(\"data/\"+PCname+\".p\", \"wb\"))\n",
    "        print('PCs saved.')\n",
    "    except:\n",
    "        print('svd failed')\n",
    "\n",
    "\n",
    "N_C = 1024\n",
    "B = np.zeros((N, N_C))\n",
    "width = N//N_C\n",
    "for n in range(N_C):\n",
    "    B[width*(n):width*(n+1), n] = 1/width\n",
    "plt.plot(B[:, ::20])\n",
    "plt.show()\n",
    "  "
   ]
  },
  {
   "cell_type": "code",
   "execution_count": null,
   "metadata": {},
   "outputs": [],
   "source": [
    "t = 5\n",
    "for l2n in range(4, 10):\n",
    "    N_C = 2**l2n\n",
    "    print('square basis', 't = '+str(t), 'N_C = '+str(N_C))\n",
    "    pca(t, 'square', N_C, clip=True)\n",
    "\n",
    "    print('cosine basis', 't = '+str(t), 'N_C = '+str(N_C))\n",
    "    pca(t, 'cosine', N_C, clip=True)\n",
    "\n",
    "    print('gaussian basis', 't = '+str(t), 'N_C = '+str(N_C))\n",
    "    pca(t, 'gaussian', N_C, clip=True)\n",
    "\n",
    "    print('sinc basis', 't = '+str(t), 'N_C = '+str(N_C))\n",
    "    pca(t, 'sinc', N_C, clip=True)\n",
    "pca(t, 'std', N)\n"
   ]
  },
  {
   "cell_type": "code",
   "execution_count": null,
   "metadata": {},
   "outputs": [],
   "source": []
  }
 ],
 "metadata": {
  "kernelspec": {
   "display_name": "Python 3",
   "language": "python",
   "name": "python3"
  },
  "language_info": {
   "codemirror_mode": {
    "name": "ipython",
    "version": 3
   },
   "file_extension": ".py",
   "mimetype": "text/x-python",
   "name": "python",
   "nbconvert_exporter": "python",
   "pygments_lexer": "ipython3",
   "version": "3.7.4"
  }
 },
 "nbformat": 4,
 "nbformat_minor": 2
}
