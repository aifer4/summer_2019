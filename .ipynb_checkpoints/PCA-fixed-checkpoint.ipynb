{
 "cells": [
  {
   "cell_type": "code",
   "execution_count": 315,
   "metadata": {},
   "outputs": [],
   "source": [
    "import params as par\n",
    "import background as bg\n",
    "from background import τ_now, τ_rec\n",
    "\n",
    "from scipy import integrate\n",
    "from scipy.interpolate import interp1d\n",
    "from scipy.special import spherical_jn\n",
    "import numpy as np\n",
    "import matplotlib.pyplot as plt\n",
    "import copy\n",
    "import pickle\n",
    "import matplotlib as mpl\n",
    "import numba"
   ]
  },
  {
   "cell_type": "code",
   "execution_count": 316,
   "metadata": {},
   "outputs": [],
   "source": [
    "# Plot Settings\n",
    "plt.rcParams.update(par.plot_params)\n",
    "\n",
    "# k and τ arrays\n",
    "k_solve = np.linspace(par.k_low, par.k_high, par.K_SOLVE)\n",
    "k_int = np.linspace(par.k_low, par.k_high, par.K_INT)\n",
    "τ_solve = pickle.load(open( \"data/tau_solve.p\", \"rb\" ) )\n",
    "\n",
    "# Load mode functions\n",
    "δd = pickle.load(open( \"data/delta_d.p\", \"rb\" ) )\n",
    "vd = pickle.load(open( \"data/v_d.p\", \"rb\" ) )\n",
    "δɣ = pickle.load(open( \"data/delta_g.p\", \"rb\" ) )\n",
    "vɣ = pickle.load(open( \"data/v_g.p\", \"rb\" ) )\n",
    "Φ = pickle.load(open( \"data/phi.p\", \"rb\" ) )\n",
    "\n",
    "# Load gdm functions\n",
    "wd_F = pickle.load(open( \"data/w_d.p\", \"rb\" ) )\n",
    "Dwd_F = pickle.load(open( \"data/Dw_d.p\", \"rb\" ) )\n",
    "cs2d_F = pickle.load(open( \"data/cs2_d.p\", \"rb\" ) )\n",
    "\n"
   ]
  },
  {
   "cell_type": "code",
   "execution_count": 317,
   "metadata": {},
   "outputs": [],
   "source": [
    "# evalate everything at the τ_solve\n",
    "\n",
    "\n",
    "ℋ = bg.ℋ(τ_solve)\n",
    "a =  bg.a(τ_solve)\n",
    "yb = bg.yb(τ_solve)\n",
    "\n",
    "Ωb = bg.Ωb(τ_solve)\n",
    "Ωɣ = bg.Ωɣ(τ_solve)\n",
    "Ωd = bg.Ωd(τ_solve)"
   ]
  },
  {
   "cell_type": "code",
   "execution_count": 318,
   "metadata": {},
   "outputs": [],
   "source": [
    "# Get initial conditions:\n",
    "\n",
    "δd0=δd[:,0]\n",
    "vd0=vd[:,0]\n",
    "δɣ0=δɣ[:,0]\n",
    "vɣ0=vɣ[:,0]\n",
    "Φ0= Φ[:,0]"
   ]
  },
  {
   "cell_type": "code",
   "execution_count": 319,
   "metadata": {},
   "outputs": [],
   "source": [
    "from params import *\n",
    "#ℋ = lambda τ: 2*α*(α*τ/τr + 1)/(α**2 * (τ**2/τr) + 2*α*τ)\n",
    "τs = 0.6*Ωm0**(.25) * Ωb0**(-.5)*a_rec**(.75)*(H0/100)**(-.5)*τr"
   ]
  },
  {
   "cell_type": "code",
   "execution_count": 320,
   "metadata": {},
   "outputs": [],
   "source": [
    "\"\"\"Precompute Bessel Functions\"\"\"\n",
    "\n",
    "l_list = np.array([i for i in range(2,50,1)]+[i for i in range(50,200,5)] + \n",
    "     [i for i in range(200, 1200, 20)])\n",
    "\n",
    "Cl = np.zeros(len(l_list))\n",
    "\n",
    "k_list2  = np.linspace(par.k_low, par.k_high, par.K_INT)\n",
    "\n",
    "JLK = np.array([\n",
    "    spherical_jn(l, k_list2*(bg.τ_now-bg.τ_rec))\n",
    "                for l in l_list])\n",
    "DJLK = np.array([\n",
    "    spherical_jn(l, k_list2*(bg.τ_now-bg.τ_rec), derivative=True) \n",
    "    for l in l_list])"
   ]
  },
  {
   "cell_type": "code",
   "execution_count": 321,
   "metadata": {},
   "outputs": [],
   "source": [
    "wd = wd_F\n",
    "Dwd = Dwd_F\n",
    "cs2d = cs2d_F\n",
    "\n",
    "Y0 = np.zeros((5,par.K_SOLVE))\n",
    "#@numba.jit(nopython=True)\n",
    "def DY(i, τ, Y):\n",
    "        dY = np.zeros((5,K_SOLVE))\n",
    "        Φ = Y[0,:]\n",
    "        δɣ = Y[1,:]\n",
    "        vɣ = Y[2,:]\n",
    "        δd = Y[3,:]\n",
    "        vd = Y[4,:]\n",
    "\n",
    "           \n",
    "        #compute background quantities\n",
    "        ℋi = 2*α*(α*τ/τr + 1)/(α**2 * (τ**2/τr) + 2*α*τ)\n",
    "        ai =  a_eq*((α*τ/τr)**2 + 2*α*τ/τr)\n",
    "        ybi = 1.68*ai*Ωb0/Ωr0\n",
    "\n",
    "        Ωbi = Ωb0 * ai**-3.\n",
    "        Ωɣi = Ωɣ0 * ai**-4.\n",
    "        Ωdi = Ωc0 * ai**-3. + Ων0 * ai**-4.\n",
    "\n",
    "        wdi = np.interp(τ, τ_solve, wd_F)\n",
    "        Dwdi = np.interp(τ, τ_solve, Dwd_F)\n",
    "        \n",
    "        #interpolate cs2\n",
    "        idx = np.searchsorted(τ_solve, τ) - 1\n",
    "        d = (τ - τ_solve[idx]) / (τ_solve[idx + 1] - τ_solve[idx])\n",
    "        cs2di = (1 - d) * cs2d[:,idx]   + cs2d[:,idx + 1] * d\n",
    "\n",
    "        wdi = wd_F_(τ)\n",
    "        Dwdi = Dwd_F_(τ)\n",
    "        cs2di = cs2d_F_(τ)\n",
    "        \n",
    "        \n",
    "        \n",
    "        f = vd*Ωdi*(1+wdi) + 4./3.*Ωɣi*vɣ +  Ωbi*vɣ\n",
    "        #DΦ\n",
    "        dY[0,:]  = -ℋi*Φ + (3/2.*H0**2.*ai**2/k_solve)*f\n",
    "        #Dδɣ\n",
    "        dY[1,:] = -4./3.*k_solve*vɣ + 4*dY[0,:]\n",
    "        #Dvɣ\n",
    "        dY[2,:] = (-ℋi*ybi*vɣ + k_solve*δɣ/3)/(\n",
    "            4./3. + ybi) + k_solve*Φ\n",
    "        #Dδd\n",
    "        dY[3,:] = -(1+wdi)*(k_solve*vd-3*dY[0,:]) -\\\n",
    "            3*ℋi*(cs2di-wdi)*δd\n",
    "        # Dvd\n",
    "        dY[4,:] = -ℋi*(1-3*wdi)*vd - vd*Dwdi/(1+wdi) +\\\n",
    "            k_solve*δd*cs2di/(1+wdi) + k_solve*Φ\n",
    "\n",
    "        #return np.array([DΦ, Dδɣ, Dvɣ, Dδd, Dvd])\n",
    "        return dY\n",
    "\n",
    "Y0 = np.array([Φ0, δɣ0, vɣ0, δd0, vd0])"
   ]
  },
  {
   "cell_type": "code",
   "execution_count": 322,
   "metadata": {},
   "outputs": [],
   "source": [
    "stepsizes = np.diff(τ_solve)\n",
    "\n",
    "#@numba.jit(nopython=True)\n",
    "def solve(): \n",
    "    Y = np.zeros((len(τ_solve), 5, par.K_SOLVE))\n",
    "    Y[0,:,:] = Y0\n",
    "    for i, τi in enumerate(τ_solve[:-1]):\n",
    "        #implement rK4:\n",
    "        ss = stepsizes[i]\n",
    "        k1 = ss*DY(i, τi,Y[i,:,:])\n",
    "        k2 = ss*DY(i, τi+ss/2,Y[i,:,:]+k1/2)\n",
    "        k3 = ss*DY(i, τi+ss/2,Y[i,:,:]+k2/2)\n",
    "        k4 = ss*DY(i, τi+ss,Y[i,:,:]+k3)\n",
    "        \n",
    "        Y[i+1,:,:] = Y[i,:,:] + k1/6 + k2/3 + k3/3 + k4/6\n",
    "    return Y\n",
    "Yf = solve()"
   ]
  },
  {
   "cell_type": "code",
   "execution_count": 323,
   "metadata": {},
   "outputs": [
    {
     "data": {
      "text/plain": [
       "[<matplotlib.lines.Line2D at 0x2aa507980b8>]"
      ]
     },
     "execution_count": 323,
     "metadata": {},
     "output_type": "execute_result"
    },
    {
     "data": {
      "image/png": "[encoded data removed]",
      "text/plain": [
       "<Figure size 936x504 with 1 Axes>"
      ]
     },
     "metadata": {
      "needs_background": "light"
     },
     "output_type": "display_data"
    }
   ],
   "source": [
    "#%timeit Yf = solve()\n",
    "plt.plot(τ_solve,Yf[:,3,10])"
   ]
  },
  {
   "cell_type": "code",
   "execution_count": 282,
   "metadata": {},
   "outputs": [],
   "source": [
    "k_grid = np.broadcast_to(k_list2,(L,K_INT))\n",
    "#@numba.jit(nopython=True)\n",
    "def get_Cl():\n",
    "    # first compute mode evolution:\n",
    "    Yf = solve()[-1,:,:]\n",
    "    SW = Yf[0,:] + Yf[1,:]/4\n",
    "    DOP = Yf[2,:]\n",
    "    SWsd = SW*np.exp(-(k_solve*τs)**2)\n",
    "    DOPsd = DOP*np.exp(-(k_solve*τs)**2)\n",
    "    \n",
    "    # get the power spectrum\n",
    "    SWfill = np.interp(k_list2, k_solve, SW)\n",
    "    DOPfill = np.interp(k_list2, k_solve, DOP)\n",
    "    Dl = SWfill*JLK + DOPfill*(DJLK-JLK/(2*k_list2*(τ_now-τ_rec)))\n",
    "\n",
    "    T = np.exp(-2*(k_list2*τs)**2 - (.03*k_list2*τ_rec)**2)\n",
    "    Cl_itgd = Dl**2 *T /k_list2\n",
    "    Cl = integrate.trapz(k_grid, Cl_itgd)\n",
    "    Cl_out = l_list*(l_list + 1)*Cl\n",
    "    return -Cl_out"
   ]
  },
  {
   "cell_type": "code",
   "execution_count": 283,
   "metadata": {},
   "outputs": [
    {
     "data": {
      "text/plain": [
       "[<matplotlib.lines.Line2D at 0x2aa4c650240>]"
      ]
     },
     "execution_count": 283,
     "metadata": {},
     "output_type": "execute_result"
    },
    {
     "data": {
      "image/png": "[encoded data removed]",
      "text/plain": [
       "<Figure size 936x504 with 1 Axes>"
      ]
     },
     "metadata": {
      "needs_background": "light"
     },
     "output_type": "display_data"
    }
   ],
   "source": [
    "Cl = get_Cl()\n",
    "plt.plot(l_list,Cl)"
   ]
  },
  {
   "cell_type": "code",
   "execution_count": null,
   "metadata": {},
   "outputs": [],
   "source": [
    "# set the w basis\n",
    "B = np.eye(N)\n",
    "for n in range(N//2):\n",
    "    s_n = np.sin((n+1)*np.pi*τ/τ[-1])\n",
    "    c_n = np.cos(n*np.pi*τ/τ[-1])\n",
    "    B[:,2*n] = s_n\n",
    "    B[:,2*n+1] = c_n\n",
    "#plt.imshow(B)"
   ]
  },
  {
   "cell_type": "code",
   "execution_count": null,
   "metadata": {},
   "outputs": [],
   "source": [
    "\n",
    "# get fiducial power spectrum\n",
    "wd = copy.deepcopy(wd_F)\n",
    "cs2d = copy.deepcopy(cs2d_F)\n",
    "\n",
    "Dwd = np.gradient(wd,τ)\n",
    "wd_ = interp1d(τ,wd, fill_value=\"extrapolate\")\n",
    "Dwd_ = interp1d(τ,Dwd, fill_value=\"extrapolate\")\n",
    "cs2d_ = interp1d(τ,cs2d, fill_value=\"extrapolate\")\n",
    "\n",
    "Cl_F = get_Cl()\n",
    "\n",
    "#perturb GDM functions\n",
    "Θw = np.zeros(N)\n",
    "Θcs2 = np.zeros((N,K))\n",
    "\n",
    "Θw[3]=.0001\n",
    "Θw[1]=.0001\n",
    "wd = wd_F + B@Θw\n",
    "cs2d = cs2d_F + Θcs2\n",
    "\n",
    "Dwd = np.gradient(wd,τ)\n",
    "wd_ = interp1d(τ,wd, fill_value=\"extrapolate\")\n",
    "Dwd_ = interp1d(τ,Dwd, fill_value=\"extrapolate\")\n",
    "cs2d_ = interp1d(τ,cs2d, fill_value=\"extrapolate\")\n",
    "\n",
    "Cl_per = get_Cl()"
   ]
  },
  {
   "cell_type": "code",
   "execution_count": null,
   "metadata": {
    "scrolled": false
   },
   "outputs": [],
   "source": [
    "plt.plot(τ, wd_F)\n",
    "plt.plot(τ, wd, linestyle=':', linewidth=3)\n",
    "plt.legend(['fiducial w', 'perturbed w'])\n",
    "plt.show()\n",
    "\n",
    "plt.plot(τ, wd_F-wd)\n",
    "plt.legend(['perturbation'])\n",
    "plt.show()\n",
    "\n",
    "plt.semilogx(l_list, Cl_F)\n",
    "plt.plot(l_list, Cl_per)\n",
    "plt.legend(['fiducial w Cl', 'perturbed w Cl'])\n",
    "plt.show()"
   ]
  }
 ],
 "metadata": {
  "kernelspec": {
   "display_name": "Python 3",
   "language": "python",
   "name": "python3"
  },
  "language_info": {
   "codemirror_mode": {
    "name": "ipython",
    "version": 3
   },
   "file_extension": ".py",
   "mimetype": "text/x-python",
   "name": "python",
   "nbconvert_exporter": "python",
   "pygments_lexer": "ipython3",
   "version": "3.7.3"
  }
 },
 "nbformat": 4,
 "nbformat_minor": 2
}
