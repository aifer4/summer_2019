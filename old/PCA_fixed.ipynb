{
 "cells": [
  {
   "cell_type": "code",
   "execution_count": 92,
   "metadata": {},
   "outputs": [],
   "source": [
    "import params as par\n",
    "from background import *\n",
    "\n",
    "import numba\n",
    "from scipy.special import spherical_jn\n",
    "from scipy import integrate\n",
    "from scipy.interpolate import interp1d\n",
    "import numpy as np\n",
    "import matplotlib.pyplot as plt\n",
    "import copy\n",
    "import pickle\n",
    "plt.rcParams.update(par.plot_params)\n",
    "cp = copy.deepcopy\n",
    "plt.rcParams.update(par.plot_params)"
   ]
  },
  {
   "cell_type": "code",
   "execution_count": 93,
   "metadata": {},
   "outputs": [],
   "source": [
    "# Load data from GDM_FID.\n",
    "\n",
    "τ_solve = pickle.load(open( \"data/tau_solve.p\", \"rb\" ) )\n",
    "k_solve = pickle.load(open( \"data/k_solve.p\", \"rb\" ) )\n",
    "\n",
    "wd_F = pickle.load(open( \"data/w_d.p\", \"rb\" ) )\n",
    "Dwd_F = pickle.load(open( \"data/Dw_d.p\", \"rb\" ) )\n",
    "cs2d_F = pickle.load(open( \"data/cs2_d.p\", \"rb\" ) )\n",
    "\n",
    "δd = pickle.load(open( \"data/delta_d.p\", \"rb\" ) )\n",
    "vd = pickle.load(open( \"data/v_d.p\", \"rb\" ) )\n",
    "δɣ = pickle.load(open( \"data/delta_g.p\", \"rb\" ) )\n",
    "vɣ = pickle.load(open( \"data/v_g.p\", \"rb\" ) )\n",
    "Φ = pickle.load(open( \"data/phi.p\", \"rb\" ) )\n",
    "\n",
    "\n",
    "(wd, Dwd, cs2d) =(wd_F, Dwd_F, cs2d_F)\n",
    "\n",
    "N = len(τ_solve)"
   ]
  },
  {
   "cell_type": "code",
   "execution_count": 100,
   "metadata": {},
   "outputs": [
    {
     "name": "stdout",
     "output_type": "stream",
     "text": [
      " 2.95 µs ± 80 ns per loop (mean ± std. dev. of 7 runs, 100000 loops each)\n"
     ]
    }
   ],
   "source": [
    "\"\"\"1 fluid\"\"\"\n",
    "\n",
    "# set initial conditions\n",
    "Φ0  = Φ[:,0] \n",
    "δɣ0 = δɣ[:,0] \n",
    "vɣ0 = vɣ[:,0] \n",
    "δd0 = δd[:,0] \n",
    "vd0 = vd[:,0] \n",
    "Y0 = np.array([Φ0, δɣ0, vɣ0, δd0, vd0])\n",
    "\n",
    "# define doubly-sampled time array for RK4:\n",
    "τ_RK = np.interp(np.arange(0, N, 0.5), np.arange(0,N),  τ_solve)\n",
    "\n",
    "\n",
    "# evaluate functions at solve points\n",
    "ℋ_RK = 2*α*(α*τ_RK/τr + 1)/(α**2 * (τ_RK**2/τr) + 2*α*τ_RK)\n",
    "a_RK =  a_eq*((α*τ_RK/τr)**2 + 2*α*τ_RK/τr)\n",
    "yb_RK = 1.68*a_s*Ωb0/Ωr0\n",
    "Ωb_RK = Ωb0 * a_s**-3.\n",
    "Ωɣ_RK = Ωɣ0 * a_s**-4.\n",
    "Ωd_RK = Ωc0 * a_s**-3. + Ων0 * a_s**-4.\n",
    "wd_RK = np.interp(τ_RK, τ_solve, wd)\n",
    "Dwd_RK = np.interp(τ_RK, τ_solve, Dwd)\n",
    "cs2d_RK = np.array([np.interp(τ_RK, τ_solve, cs2d[i,:]) for i in range(K_SOLVE)])\n",
    "\n",
    "\n",
    "@numba.jit(nopython=True)\n",
    "def DY(i, Y, wd, Dwd):\n",
    "        dY = np.zeros((5,K_SOLVE))\n",
    "        Φ = Y[0,:]\n",
    "        δɣ = Y[1,:]\n",
    "        vɣ = Y[2,:]\n",
    "        δd = Y[3,:]\n",
    "        vd = Y[4,:]\n",
    "           \n",
    "        #compute background quantities\n",
    "        ℋi = ℋ_RK[i] \n",
    "        ai =  a_RK[i]\n",
    "        ybi = yb_RK[i]\n",
    "        Ωbi = Ωb_RK[i]\n",
    "        Ωɣi = Ωɣ_RK[i]\n",
    "        Ωdi = Ωd_RK[i]\n",
    "\n",
    "        wdi = wd_RK[i]\n",
    "        Dwdi = Dwd_RK[i]\n",
    "        cs2di = cs2d_RK[:,i]\n",
    "        \n",
    "        f = vd*Ωdi*(1+wdi) + 4./3.*Ωɣi*vɣ +  Ωbi*vɣ\n",
    "        #DΦ\n",
    "        dY[0,:]  = -ℋi*Φ + (3/2.*H0**2.*ai**2/k_solve)*f\n",
    "        #Dδɣ\n",
    "        dY[1,:] = -4./3.*k_solve*vɣ + 4*dY[0,:]\n",
    "        #Dvɣ\n",
    "        dY[2,:] = (-ℋi*ybi*vɣ + k_solve*δɣ/3)/(\n",
    "            4./3. + ybi) + k_solve*Φ\n",
    "        #Dδd\n",
    "        dY[3,:] = -(1+wdi)*(k_solve*vd-3*dY[0,:]) -\\\n",
    "            3*ℋi*(cs2di-wdi)*δd\n",
    "        # Dvd\n",
    "        dY[4,:] = -ℋi*(1-3*wdi)*vd - vd*Dwdi/(1+wdi) +\\\n",
    "            k_solve*δd*cs2di/(1+wdi) + k_solve*Φ\n",
    "\n",
    "        return dY\n",
    "xx = DY(1, Y0, wd_F, Dwd_F)\n",
    "%prun DY(1, Y0, wd_F, Dwd_F)\n",
    "%timeit DY(1, Y0, wd_F, Dwd_F)"
   ]
  },
  {
   "cell_type": "code",
   "execution_count": 57,
   "metadata": {},
   "outputs": [],
   "source": [
    "# compute stepsizes for RK4\n",
    "stepsizes = np.diff(τ_solve)\n",
    "\n",
    "# implement RK4\n",
    "@numba.jit(nopython=True)\n",
    "def solve(wd=wd_F, Dwd=Dwd_F): \n",
    "    Y = np.zeros((len(τ_solve), 5, par.K_SOLVE))\n",
    "    Y[0,:,:] = Y0\n",
    "    for i, τi in enumerate(τ_solve[:-1]):\n",
    "        ss = stepsizes[i]\n",
    "        k1 = ss*DY(τi,Y[i,:,:], wd, Dwd)\n",
    "        k2 = ss*DY(τi+ss/2,Y[i,:,:]+k1/2, wd, Dwd)\n",
    "        k3 = ss*DY(τi+ss/2,Y[i,:,:]+k2/2, wd, Dwd)\n",
    "        k4 = ss*DY(τi+ss,Y[i,:,:]+k3, wd, Dwd)\n",
    "        \n",
    "        Y[i+1,:,:] = Y[i,:,:] + k1/6 + k2/3 + k3/3 + k4/6\n",
    "    return Y"
   ]
  },
  {
   "cell_type": "code",
   "execution_count": 53,
   "metadata": {},
   "outputs": [],
   "source": [
    "# k and l list for integration\n",
    "k_list2  = np.linspace(k_low,k_high,K_INT)\n",
    "l_list = np.array([i for i in range(2,50,1)]+[i for i in range(50,200,5)] + \n",
    "     [i for i in range(200, 1200, 20)])\n",
    "L = len(l_list)\n",
    "\n",
    "\"\"\"Precompute Bessel Functions\"\"\"\n",
    "# check if they're already stored\n",
    "if 'JLK' not in globals():\n",
    "    JLK = np.array([\n",
    "        spherical_jn(l, k_list2*(τ_now-τ_rec))\n",
    "                    for l in l_list])\n",
    "    DJLK = np.array([\n",
    "        spherical_jn(l, k_list2*(τ_now-τ_rec), derivative=True) \n",
    "        for l in l_list])\n"
   ]
  },
  {
   "cell_type": "code",
   "execution_count": 58,
   "metadata": {},
   "outputs": [],
   "source": [
    "k_grid = np.broadcast_to(k_list2,(len(l_list),K_INT))\n",
    "@numba.jit(nopython=True)\n",
    "def get_Cl(wd = wd_F, Dwd = Dwd_F):\n",
    "    # first compute mode evolution:\n",
    "    Yf = solve(wd, Dwd)[-1,:,:]\n",
    "    SW = Yf[0,:] + Yf[1,:]/4\n",
    "    DOP = Yf[2,:]\n",
    "    SWsd = SW*np.exp(-(k_solve*τs)**2)\n",
    "    DOPsd = DOP*np.exp(-(k_solve*τs)**2)\n",
    "    \n",
    "    # get the power spectrum\n",
    "    SWfill = np.interp(k_list2, k_solve, SW)\n",
    "    DOPfill = np.interp(k_list2, k_solve, DOP)\n",
    "    Dl = SWfill*JLK + DOPfill*(DJLK-JLK/(2*k_list2*(τ_now-τ_rec)))\n",
    "\n",
    "    T = np.exp(-2*(k_list2*τs)**2 - (.03*k_list2*τ_rec)**2)\n",
    "    Cl_itgd = Dl**2 *T /k_list2\n",
    "    Cl = integrate.trapz(k_grid, Cl_itgd)\n",
    "    Cl_out = l_list*(l_list + 1)*Cl\n",
    "    return -Cl_out"
   ]
  },
  {
   "cell_type": "code",
   "execution_count": 59,
   "metadata": {},
   "outputs": [
    {
     "name": "stdout",
     "output_type": "stream",
     "text": [
      "timing mode evolution...\n",
      "20 ms ± 274 µs per loop (mean ± std. dev. of 7 runs, 10 loops each)\n",
      "\n",
      "\n",
      "timing power spectrum computation...\n",
      "53 ms ± 521 µs per loop (mean ± std. dev. of 7 runs, 10 loops each)\n"
     ]
    }
   ],
   "source": [
    "# compile the functions and time\n",
    "time_functions=True\n",
    "solve()\n",
    "get_Cl()\n",
    "if time_functions:\n",
    "    print('timing mode evolution...')\n",
    "    %timeit solve()\n",
    "    print('\\n')\n",
    "    print('timing power spectrum computation...')\n",
    "    %timeit get_Cl()\n"
   ]
  },
  {
   "cell_type": "code",
   "execution_count": 60,
   "metadata": {},
   "outputs": [],
   "source": [
    "\"\"\"w-only PCA\"\"\"\n",
    "\n",
    "# number of components:\n",
    "N_C = 600\n",
    "J = np.zeros((L, N_C))\n",
    "\n",
    "# derivative stepsize:\n",
    "stepsize = 0.00001\n",
    "\n",
    "# set the w basis\n",
    "basis_domain = np.linspace(τ0, τ_rec, 4*N_C)\n",
    "B = np.zeros((len(basis_domain),N_C))\n",
    "# sin/cosine basis\n",
    "for n in range(N_C//2):\n",
    "    s_n = np.sin((n+1)*np.pi*basis_domain/τ_rec)\n",
    "    c_n = np.cos(n*np.pi*basis_domain/τ_rec)\n",
    "    B[:,2*n] = s_n\n",
    "    B[:,2*n+1] = c_n\n",
    "\n",
    "\n",
    "# basis coefficients:\n",
    "Θw = np.zeros(N_C)\n",
    "\n",
    "# standard basis vectors:\n",
    "e = np.eye(N_C)\n",
    "\n",
    "# Calculate the fiducial power spectrum\n",
    "wd = cp(wd_F)\n",
    "Dwd = cp(Dwd_F)\n",
    "Cl0 = get_Cl()"
   ]
  },
  {
   "cell_type": "code",
   "execution_count": 61,
   "metadata": {},
   "outputs": [
    {
     "ename": "KeyboardInterrupt",
     "evalue": "",
     "output_type": "error",
     "traceback": [
      "\u001b[1;31m---------------------------------------------------------------------------\u001b[0m",
      "\u001b[1;31mKeyboardInterrupt\u001b[0m                         Traceback (most recent call last)",
      "\u001b[1;32m<ipython-input-61-a12c6c8bc336>\u001b[0m in \u001b[0;36m<module>\u001b[1;34m\u001b[0m\n\u001b[0;32m     14\u001b[0m     \u001b[1;31m# evaluate Cl\u001b[0m\u001b[1;33m\u001b[0m\u001b[1;33m\u001b[0m\u001b[1;33m\u001b[0m\u001b[0m\n\u001b[0;32m     15\u001b[0m     \u001b[1;33m(\u001b[0m\u001b[0mwd\u001b[0m\u001b[1;33m,\u001b[0m \u001b[0mDwd\u001b[0m\u001b[1;33m)\u001b[0m \u001b[1;33m=\u001b[0m \u001b[1;33m(\u001b[0m\u001b[0mwd_fwd\u001b[0m\u001b[1;33m,\u001b[0m \u001b[0mDwd_fwd\u001b[0m\u001b[1;33m)\u001b[0m\u001b[1;33m\u001b[0m\u001b[1;33m\u001b[0m\u001b[0m\n\u001b[1;32m---> 16\u001b[1;33m     \u001b[0mCl_fwd\u001b[0m \u001b[1;33m=\u001b[0m \u001b[0mget_Cl\u001b[0m\u001b[1;33m(\u001b[0m\u001b[1;33m)\u001b[0m\u001b[1;33m\u001b[0m\u001b[1;33m\u001b[0m\u001b[0m\n\u001b[0m\u001b[0;32m     17\u001b[0m     \u001b[1;33m(\u001b[0m\u001b[0mwd\u001b[0m\u001b[1;33m,\u001b[0m \u001b[0mDwd\u001b[0m\u001b[1;33m)\u001b[0m \u001b[1;33m=\u001b[0m \u001b[1;33m(\u001b[0m\u001b[0mwd_bwd\u001b[0m\u001b[1;33m,\u001b[0m \u001b[0mDwd_bwd\u001b[0m\u001b[1;33m)\u001b[0m\u001b[1;33m\u001b[0m\u001b[1;33m\u001b[0m\u001b[0m\n\u001b[0;32m     18\u001b[0m     \u001b[0mCl_bwd\u001b[0m \u001b[1;33m=\u001b[0m \u001b[0mget_Cl\u001b[0m\u001b[1;33m(\u001b[0m\u001b[1;33m)\u001b[0m\u001b[1;33m\u001b[0m\u001b[1;33m\u001b[0m\u001b[0m\n",
      "\u001b[1;31mKeyboardInterrupt\u001b[0m: "
     ]
    }
   ],
   "source": [
    "# Compute the partials:\n",
    "for n in range(N_C):\n",
    "    global wd, Dwd\n",
    "    # perturb w forward and backward\n",
    "    Θw = e[n] * stepsize\n",
    "    step = np.interp(τ_solve, basis_domain, B@Θw)\n",
    "    wd_fwd = wd_F + step\n",
    "    wd_bwd = wd_F - step\n",
    "    \n",
    "    # calculate Dw\n",
    "    Dwd_fwd = np.gradient(wd_fwd, τ_solve)\n",
    "    Dwd_bwd = np.gradient(wd_bwd, τ_solve)\n",
    "    \n",
    "    # evaluate Cl\n",
    "    (wd, Dwd) = (wd_fwd, Dwd_fwd)\n",
    "    Cl_fwd = get_Cl()\n",
    "    (wd, Dwd) = (wd_bwd, Dwd_bwd)\n",
    "    Cl_bwd = get_Cl()\n",
    "    J[:,n] = (Cl_fwd - Cl_bwd)/(2.*stepsize) \n"
   ]
  },
  {
   "cell_type": "code",
   "execution_count": null,
   "metadata": {},
   "outputs": [],
   "source": [
    "print(np.shape(J))\n",
    "#compute Fisher matrix\n",
    "F = np.transpose(J)@np.eye(L)@J\n",
    "plt.imshow(J)\n",
    "plt.show()\n",
    "plt.imshow(F)\n",
    "plt.show()"
   ]
  },
  {
   "cell_type": "code",
   "execution_count": null,
   "metadata": {},
   "outputs": [],
   "source": [
    "w, v = np.linalg.eig(F)\n",
    "PC = np.real(v)\n",
    "plt.imshow(PC)\n",
    "plt.show()\n",
    "plt.semilogy(np.abs(w))\n",
    "plt.title('eigenvalues')\n",
    "plt.show()"
   ]
  },
  {
   "cell_type": "code",
   "execution_count": null,
   "metadata": {},
   "outputs": [],
   "source": [
    "print(np.shape(PC))\n",
    "PF = B@PC\n",
    "plt.plot(basis_domain,PF[:,0:5])\n",
    "plt.xlim(-.000005,0.0002)\n",
    "plt.show()\n",
    "plt.semilogy(np.abs(w)[0:10])"
   ]
  },
  {
   "cell_type": "code",
   "execution_count": null,
   "metadata": {},
   "outputs": [],
   "source": []
  }
 ],
 "metadata": {
  "kernelspec": {
   "display_name": "Python 3",
   "language": "python",
   "name": "python3"
  },
  "language_info": {
   "codemirror_mode": {
    "name": "ipython",
    "version": 3
   },
   "file_extension": ".py",
   "mimetype": "text/x-python",
   "name": "python",
   "nbconvert_exporter": "python",
   "pygments_lexer": "ipython3",
   "version": "3.7.3"
  }
 },
 "nbformat": 4,
 "nbformat_minor": 2
}
