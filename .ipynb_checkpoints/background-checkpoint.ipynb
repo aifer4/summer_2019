{
 "cells": [
  {
   "cell_type": "code",
   "execution_count": 5,
   "metadata": {},
   "outputs": [
    {
     "name": "stdout",
     "output_type": "stream",
     "text": [
      "1.7734488835909417\n"
     ]
    }
   ],
   "source": [
    "\"\"\"Background Cosmology\"\"\"\n",
    "\n",
    "from params import *\n",
    "from scipy import integrate\n",
    "import numpy as np\n",
    "\n",
    "def τ_itgd(a):\n",
    "    \"\"\"conformal time integrand\"\"\"\n",
    "    return  1/(a**2* H0 * np.sqrt(Ωm0*a**-3 + Ωr0*a**-4 + ΩΛ))\n",
    "\n",
    "def get_τ(a):\n",
    "    (τ,_)=integrate.quad(τ_itgd,0,a)\n",
    "    return τ\n",
    "\n",
    "τ_rec = get_τ(a_rec)\n",
    "τ_eq = get_τ(a_eq)\n",
    "τ_now = get_τ(1.0)\n",
    "\n",
    "ℋ = lambda τ: 2*α*(α*τ/τr + 1)/(α**2 * (τ**2/τr))\n",
    "a = lambda τ: a_eq*((α*τ/τr)**2 + 2*α*τ/τr)\n",
    "y = lambda τ: a(τ)/a_eq\n",
    "yb = lambda τ: 1.68*y(τ)*Ωb0/Ωm0\n",
    "\n",
    "Ωb = lambda τ: Ωb0 * a(τ)**-3.\n",
    "Ωc = lambda τ: Ωc0 * a(τ)**-3.\n",
    "Ωɣ = lambda τ: Ωɣ0 * a(τ)**-4.\n",
    "Ων = lambda τ: Ων0 * a(τ)**-4.\n",
    "Ωm = lambda τ: Ωm0 * a(τ)**-3.\n",
    "Ωr = lambda τ: Ωr0 * a(τ)**-4.\n",
    "Ωd = lambda τ: Ωc(τ) + Ων(τ)"
   ]
  },
  {
   "cell_type": "code",
   "execution_count": null,
   "metadata": {},
   "outputs": [],
   "source": []
  }
 ],
 "metadata": {
  "kernelspec": {
   "display_name": "Python 3",
   "language": "python",
   "name": "python3"
  }
 },
 "nbformat": 4,
 "nbformat_minor": 2
}
