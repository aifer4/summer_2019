{
 "cells": [
  {
   "cell_type": "code",
   "execution_count": 141,
   "metadata": {},
   "outputs": [],
   "source": [
    "import numpy as np\n",
    "import matplotlib.pyplot as plt"
   ]
  },
  {
   "cell_type": "code",
   "execution_count": null,
   "metadata": {},
   "outputs": [],
   "source": [
    "class register:\n",
    "    def __init__(self, bit_num):\n",
    "        self.r = realpart\n",
    "        self.i = imagpart"
   ]
  },
  {
   "cell_type": "code",
   "execution_count": 142,
   "metadata": {},
   "outputs": [],
   "source": [
    "\"\"\"Create two registers (A and B), each with M qubits.\"\"\" \n",
    "M = 3\n",
    "# Number of basis states is N=2**M.\n",
    "N = 2**M\n",
    "REG_A = np.ones(N, dtype=np.complex) * np.sqrt(1./N)\n",
    "REG_B = np.ones(N, dtype=np.complex) * np.sqrt(1./N)"
   ]
  },
  {
   "cell_type": "code",
   "execution_count": 143,
   "metadata": {},
   "outputs": [],
   "source": [
    "def read(reg, evals):\n",
    "    \"\"\"Measure the state of the register.\"\"\"\n",
    "    probs = np.cumsum(np.abs(reg)**2)\n",
    "    x = np.random.rand()\n",
    "    val = np.argmax(probs>=np.random.rand())\n",
    "    # now collapse the state of the register:\n",
    "    reg = np.zeros(N, dtype=np.complex)\n",
    "    reg[val] = 1\n",
    "    return reg, evals[val]"
   ]
  },
  {
   "cell_type": "code",
   "execution_count": 144,
   "metadata": {},
   "outputs": [],
   "source": [
    "\"\"\"Define the function we want the period of\"\"\"\n",
    "@np.vectorize\n",
    "def f(x):\n",
    "    return x"
   ]
  },
  {
   "cell_type": "code",
   "execution_count": 145,
   "metadata": {},
   "outputs": [],
   "source": [
    "def update_B():\n",
    "    \"\"\"Update register B.\"\"\"\n",
    "    global REG_B, EVALS_B\n",
    "    EVALS_B = f(EVALS_A)\n",
    "    REG_B = REG_A"
   ]
  },
  {
   "cell_type": "code",
   "execution_count": 146,
   "metadata": {},
   "outputs": [
    {
     "data": {
      "text/plain": [
       "<matplotlib.collections.PathCollection at 0xecca9b0>"
      ]
     },
     "execution_count": 146,
     "metadata": {},
     "output_type": "execute_result"
    },
    {
     "data": {
      "image/png": "[encoded data removed]",
      "text/plain": [
       "<Figure size 432x288 with 1 Axes>"
      ]
     },
     "metadata": {},
     "output_type": "display_data"
    }
   ],
   "source": [
    "update_B()\n",
    "plt.scatter(EVALS_A,EVALS_B)"
   ]
  },
  {
   "cell_type": "code",
   "execution_count": null,
   "metadata": {},
   "outputs": [],
   "source": []
  },
  {
   "cell_type": "code",
   "execution_count": null,
   "metadata": {},
   "outputs": [],
   "source": []
  }
 ],
 "metadata": {
  "kernelspec": {
   "display_name": "Python 2",
   "language": "python",
   "name": "python2"
  },
  "language_info": {
   "codemirror_mode": {
    "name": "ipython",
    "version": 2
   },
   "file_extension": ".py",
   "mimetype": "text/x-python",
   "name": "python",
   "nbconvert_exporter": "python",
   "pygments_lexer": "ipython2",
   "version": "2.7.14"
  }
 },
 "nbformat": 4,
 "nbformat_minor": 2
}
